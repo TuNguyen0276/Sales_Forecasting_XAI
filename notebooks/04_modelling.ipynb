{
 "cells": [
  {
   "cell_type": "markdown",
   "id": "8ee802ed-e405-4f86-985a-c6e0656c5265",
   "metadata": {},
   "source": [
    "# Part IV: Modelling"
   ]
  },
  {
   "cell_type": "markdown",
   "id": "1e8dffd0-604c-4434-9f56-9f67578d60a2",
   "metadata": {},
   "source": [
    "## Basic settings"
   ]
  },
  {
   "cell_type": "code",
   "execution_count": 1,
   "id": "68a20043-c34e-41ec-a61f-d10c46238fbd",
   "metadata": {},
   "outputs": [],
   "source": [
    "%load_ext autoreload\n",
    "%autoreload 2"
   ]
  },
  {
   "cell_type": "code",
   "execution_count": 2,
   "id": "0bae6ca2-7d52-4ed1-90e0-bf5dcb510dba",
   "metadata": {},
   "outputs": [],
   "source": [
    "import json\n",
    "import os\n",
    "import pickle\n",
    "import sys\n",
    "import warnings\n",
    "from datetime import datetime, timedelta\n",
    "\n",
    "import lightgbm as lgbm\n",
    "import matplotlib.pyplot as plt\n",
    "import numpy as np\n",
    "import optuna\n",
    "import pandas as pd\n",
    "import seaborn as sns\n",
    "import shap\n",
    "from prophet import Prophet\n",
    "from sklearn.metrics import mean_absolute_error, mean_squared_error\n",
    "from sklearn.model_selection import TimeSeriesSplit\n",
    "\n",
    "warnings.filterwarnings(\"ignore\")\n",
    "\n",
    "# Set plotting style\n",
    "plt.style.use(\"seaborn-v0_8-whitegrid\")\n",
    "sns.set_palette(\"deep\")\n",
    "\n",
    "# Set random seed for reproducibility\n",
    "np.random.seed(2025)"
   ]
  },
  {
   "cell_type": "code",
   "execution_count": 3,
   "id": "8fefc9dd-198a-4604-9ba3-c96566203eab",
   "metadata": {},
   "outputs": [],
   "source": [
    "src_path = os.path.abspath(os.path.join(\"..\", \"src\"))\n",
    "if src_path not in sys.path:\n",
    "    sys.path.append(src_path)"
   ]
  },
  {
   "cell_type": "code",
   "execution_count": 4,
   "id": "58f3a359-c913-4b1b-8329-3a7a3c8c982a",
   "metadata": {},
   "outputs": [],
   "source": [
    "from utils.plots import plot_forecast_single\n",
    "from utils.utils import flatten_prophet_predictions, weighted_absolute_percentage_error"
   ]
  },
  {
   "cell_type": "code",
   "execution_count": 5,
   "id": "10499f54-a5e2-47e2-9460-daaeca91675b",
   "metadata": {},
   "outputs": [],
   "source": [
    "DATA_DIR = \"../data\"\n",
    "SALES_DATA_PATH = os.path.join(DATA_DIR, \"feature_engineered_data_55_features.feather\")"
   ]
  },
  {
   "cell_type": "markdown",
   "id": "12747917-837a-4b8a-9fc2-502deb096ea5",
   "metadata": {},
   "source": [
    "## Load data"
   ]
  },
  {
   "cell_type": "code",
   "execution_count": 6,
   "id": "7f6afa0d-32fe-4192-b89c-00b7d9cf11e8",
   "metadata": {},
   "outputs": [],
   "source": [
    "df_features = pd.read_feather(SALES_DATA_PATH)"
   ]
  },
  {
   "cell_type": "code",
   "execution_count": 7,
   "id": "34e5c03b-dfdb-4bdf-81e9-b811b98e50d2",
   "metadata": {
    "scrolled": true
   },
   "outputs": [
    {
     "name": "stdout",
     "output_type": "stream",
     "text": [
      "<class 'pandas.core.frame.DataFrame'>\n",
      "Index: 193325 entries, 7752 to 200845\n",
      "Data columns (total 55 columns):\n",
      " #   Column                 Non-Null Count   Dtype         \n",
      "---  ------                 --------------   -----         \n",
      " 0   date                   193325 non-null  datetime64[ns]\n",
      " 1   province               193325 non-null  object        \n",
      " 2   store_id               193325 non-null  int64         \n",
      " 3   store_name             193325 non-null  object        \n",
      " 4   category               193325 non-null  object        \n",
      " 5   item_id                193325 non-null  int64         \n",
      " 6   item_name              193325 non-null  object        \n",
      " 7   sales                  193325 non-null  float64       \n",
      " 8   is_test                193325 non-null  bool          \n",
      " 9   temperature            193325 non-null  float64       \n",
      " 10  humidity               193325 non-null  float64       \n",
      " 11  year                   193325 non-null  int32         \n",
      " 12  month                  193325 non-null  int32         \n",
      " 13  day                    193325 non-null  int32         \n",
      " 14  day_of_week            193325 non-null  int32         \n",
      " 15  is_weekend             193325 non-null  int64         \n",
      " 16  quarter                193325 non-null  int32         \n",
      " 17  is_holiday             193325 non-null  int64         \n",
      " 18  temp_category_Cool     193325 non-null  bool          \n",
      " 19  temp_category_Warm     193325 non-null  bool          \n",
      " 20  temp_category_Hot      193325 non-null  bool          \n",
      " 21  humidity_level_Medium  193325 non-null  bool          \n",
      " 22  humidity_level_High    193325 non-null  bool          \n",
      " 23  season_fall            193325 non-null  bool          \n",
      " 24  season_spring          193325 non-null  bool          \n",
      " 25  season_summer          193325 non-null  bool          \n",
      " 26  season_wet             193325 non-null  bool          \n",
      " 27  season_winter          193325 non-null  bool          \n",
      " 28  store_item             193325 non-null  object        \n",
      " 29  sales_lag_1            193325 non-null  float64       \n",
      " 30  sales_lag_7            193325 non-null  float64       \n",
      " 31  sales_lag_14           193325 non-null  float64       \n",
      " 32  sales_lag_28           193325 non-null  float64       \n",
      " 33  sales_mean_7d          193325 non-null  float64       \n",
      " 34  sales_min_7d           193325 non-null  float64       \n",
      " 35  sales_max_7d           193325 non-null  float64       \n",
      " 36  sales_std_7d           193325 non-null  float64       \n",
      " 37  sales_mean_14d         193325 non-null  float64       \n",
      " 38  sales_min_14d          193325 non-null  float64       \n",
      " 39  sales_max_14d          193325 non-null  float64       \n",
      " 40  sales_std_14d          193325 non-null  float64       \n",
      " 41  sales_mean_28d         193325 non-null  float64       \n",
      " 42  sales_min_28d          193325 non-null  float64       \n",
      " 43  sales_max_28d          193325 non-null  float64       \n",
      " 44  sales_std_28d          193325 non-null  float64       \n",
      " 45  sales_ewma_7d_a05      193325 non-null  float64       \n",
      " 46  sales_ewma_14d_a05     193325 non-null  float64       \n",
      " 47  sales_ewma_28d_a05     193325 non-null  float64       \n",
      " 48  sales_ewma_7d_a075     193325 non-null  float64       \n",
      " 49  sales_ewma_14d_a075    193325 non-null  float64       \n",
      " 50  sales_ewma_28d_a075    193325 non-null  float64       \n",
      " 51  store_mean_7d          193325 non-null  float64       \n",
      " 52  store_sum_7d           193325 non-null  float64       \n",
      " 53  item_mean_7d           193325 non-null  float64       \n",
      " 54  item_sum_7d            193325 non-null  float64       \n",
      "dtypes: bool(11), datetime64[ns](1), float64(29), int32(5), int64(4), object(5)\n",
      "memory usage: 64.7+ MB\n"
     ]
    }
   ],
   "source": [
    "df_features.info()"
   ]
  },
  {
   "cell_type": "markdown",
   "id": "b54551db-234e-4005-afda-fbcf64696798",
   "metadata": {},
   "source": [
    "## Base line model"
   ]
  },
  {
   "cell_type": "code",
   "execution_count": 8,
   "id": "3b5f51ed-4f18-4f5e-961e-0b7b84db4307",
   "metadata": {},
   "outputs": [
    {
     "data": {
      "text/html": [
       "<div>\n",
       "<style scoped>\n",
       "    .dataframe tbody tr th:only-of-type {\n",
       "        vertical-align: middle;\n",
       "    }\n",
       "\n",
       "    .dataframe tbody tr th {\n",
       "        vertical-align: top;\n",
       "    }\n",
       "\n",
       "    .dataframe thead th {\n",
       "        text-align: right;\n",
       "    }\n",
       "</style>\n",
       "<table border=\"1\" class=\"dataframe\">\n",
       "  <thead>\n",
       "    <tr style=\"text-align: right;\">\n",
       "      <th></th>\n",
       "      <th>date</th>\n",
       "      <th>store_item</th>\n",
       "      <th>sales</th>\n",
       "      <th>is_weekend</th>\n",
       "      <th>is_holiday</th>\n",
       "      <th>temperature</th>\n",
       "      <th>humidity</th>\n",
       "    </tr>\n",
       "  </thead>\n",
       "  <tbody>\n",
       "    <tr>\n",
       "      <th>0</th>\n",
       "      <td>2016-01-29</td>\n",
       "      <td>Ba Dinh Supermarket_Baby Food</td>\n",
       "      <td>30.0</td>\n",
       "      <td>0</td>\n",
       "      <td>0</td>\n",
       "      <td>16.5</td>\n",
       "      <td>74.3</td>\n",
       "    </tr>\n",
       "    <tr>\n",
       "      <th>1</th>\n",
       "      <td>2016-01-29</td>\n",
       "      <td>Ba Dinh Supermarket_Baby Wipes</td>\n",
       "      <td>17.0</td>\n",
       "      <td>0</td>\n",
       "      <td>0</td>\n",
       "      <td>16.5</td>\n",
       "      <td>74.3</td>\n",
       "    </tr>\n",
       "    <tr>\n",
       "      <th>2</th>\n",
       "      <td>2016-01-29</td>\n",
       "      <td>Ba Dinh Supermarket_Cheese</td>\n",
       "      <td>12.0</td>\n",
       "      <td>0</td>\n",
       "      <td>0</td>\n",
       "      <td>16.5</td>\n",
       "      <td>74.3</td>\n",
       "    </tr>\n",
       "    <tr>\n",
       "      <th>3</th>\n",
       "      <td>2016-01-29</td>\n",
       "      <td>Ba Dinh Supermarket_Chips</td>\n",
       "      <td>67.0</td>\n",
       "      <td>0</td>\n",
       "      <td>0</td>\n",
       "      <td>16.5</td>\n",
       "      <td>74.3</td>\n",
       "    </tr>\n",
       "    <tr>\n",
       "      <th>4</th>\n",
       "      <td>2016-01-29</td>\n",
       "      <td>Ba Dinh Supermarket_Chocolate</td>\n",
       "      <td>34.0</td>\n",
       "      <td>0</td>\n",
       "      <td>0</td>\n",
       "      <td>16.5</td>\n",
       "      <td>74.3</td>\n",
       "    </tr>\n",
       "    <tr>\n",
       "      <th>...</th>\n",
       "      <td>...</td>\n",
       "      <td>...</td>\n",
       "      <td>...</td>\n",
       "      <td>...</td>\n",
       "      <td>...</td>\n",
       "      <td>...</td>\n",
       "      <td>...</td>\n",
       "    </tr>\n",
       "    <tr>\n",
       "      <th>193320</th>\n",
       "      <td>2017-12-31</td>\n",
       "      <td>Tay Ho Store_Toothpaste</td>\n",
       "      <td>60.0</td>\n",
       "      <td>1</td>\n",
       "      <td>0</td>\n",
       "      <td>15.3</td>\n",
       "      <td>70.7</td>\n",
       "    </tr>\n",
       "    <tr>\n",
       "      <th>193321</th>\n",
       "      <td>2017-12-31</td>\n",
       "      <td>Tay Ho Store_Trash Bags</td>\n",
       "      <td>33.0</td>\n",
       "      <td>1</td>\n",
       "      <td>0</td>\n",
       "      <td>15.3</td>\n",
       "      <td>70.7</td>\n",
       "    </tr>\n",
       "    <tr>\n",
       "      <th>193322</th>\n",
       "      <td>2017-12-31</td>\n",
       "      <td>Tay Ho Store_Vitamins</td>\n",
       "      <td>31.0</td>\n",
       "      <td>1</td>\n",
       "      <td>0</td>\n",
       "      <td>15.3</td>\n",
       "      <td>70.7</td>\n",
       "    </tr>\n",
       "    <tr>\n",
       "      <th>193323</th>\n",
       "      <td>2017-12-31</td>\n",
       "      <td>Tay Ho Store_Water</td>\n",
       "      <td>75.0</td>\n",
       "      <td>1</td>\n",
       "      <td>0</td>\n",
       "      <td>15.3</td>\n",
       "      <td>70.7</td>\n",
       "    </tr>\n",
       "    <tr>\n",
       "      <th>193324</th>\n",
       "      <td>2017-12-31</td>\n",
       "      <td>Tay Ho Store_Yogurt</td>\n",
       "      <td>58.0</td>\n",
       "      <td>1</td>\n",
       "      <td>0</td>\n",
       "      <td>15.3</td>\n",
       "      <td>70.7</td>\n",
       "    </tr>\n",
       "  </tbody>\n",
       "</table>\n",
       "<p>193325 rows × 7 columns</p>\n",
       "</div>"
      ],
      "text/plain": [
       "             date                      store_item  sales  is_weekend  \\\n",
       "0      2016-01-29   Ba Dinh Supermarket_Baby Food   30.0           0   \n",
       "1      2016-01-29  Ba Dinh Supermarket_Baby Wipes   17.0           0   \n",
       "2      2016-01-29      Ba Dinh Supermarket_Cheese   12.0           0   \n",
       "3      2016-01-29       Ba Dinh Supermarket_Chips   67.0           0   \n",
       "4      2016-01-29   Ba Dinh Supermarket_Chocolate   34.0           0   \n",
       "...           ...                             ...    ...         ...   \n",
       "193320 2017-12-31         Tay Ho Store_Toothpaste   60.0           1   \n",
       "193321 2017-12-31         Tay Ho Store_Trash Bags   33.0           1   \n",
       "193322 2017-12-31           Tay Ho Store_Vitamins   31.0           1   \n",
       "193323 2017-12-31              Tay Ho Store_Water   75.0           1   \n",
       "193324 2017-12-31             Tay Ho Store_Yogurt   58.0           1   \n",
       "\n",
       "        is_holiday  temperature  humidity  \n",
       "0                0         16.5      74.3  \n",
       "1                0         16.5      74.3  \n",
       "2                0         16.5      74.3  \n",
       "3                0         16.5      74.3  \n",
       "4                0         16.5      74.3  \n",
       "...            ...          ...       ...  \n",
       "193320           0         15.3      70.7  \n",
       "193321           0         15.3      70.7  \n",
       "193322           0         15.3      70.7  \n",
       "193323           0         15.3      70.7  \n",
       "193324           0         15.3      70.7  \n",
       "\n",
       "[193325 rows x 7 columns]"
      ]
     },
     "execution_count": 8,
     "metadata": {},
     "output_type": "execute_result"
    }
   ],
   "source": [
    "# Keep original df_features with dates for Prophet\n",
    "train_data = df_features[~df_features[\"is_test\"]]\n",
    "test_data = df_features[df_features[\"is_test\"]]\n",
    "\n",
    "# Create a df_featuresset specifically for Prophet (simpler format)\n",
    "prophet_data = (\n",
    "    df_features.groupby([\"date\", \"store_item\"])\n",
    "    .agg(\n",
    "        {\n",
    "            \"sales\": \"sum\",\n",
    "            \"is_weekend\": \"first\",\n",
    "            \"is_holiday\": \"first\",\n",
    "            \"temperature\": \"first\",\n",
    "            \"humidity\": \"first\",\n",
    "        }\n",
    "    )\n",
    "    .reset_index()\n",
    ")\n",
    "\n",
    "prophet_data"
   ]
  },
  {
   "cell_type": "code",
   "execution_count": 9,
   "id": "fe67d50d-76f1-4580-8290-7e686a5ff400",
   "metadata": {},
   "outputs": [],
   "source": [
    "def build_prophet_model(prophet_data, train_data, test_data):\n",
    "    \"\"\"\n",
    "    Build Prophet models for all store-item combinations in the data.\n",
    "    \"\"\"\n",
    "\n",
    "    print(\"Building Prophet models for all store-item combinations...\")\n",
    "\n",
    "    # Get all unique store-item keys\n",
    "    unique_combinations = prophet_data[\"store_item\"].unique()\n",
    "\n",
    "    # Prepare date range for test set\n",
    "    min_test_date = test_data[\"date\"].min()\n",
    "    max_test_date = test_data[\"date\"].max()\n",
    "\n",
    "    # Storage for output\n",
    "    prophet_predictions = {}\n",
    "    prophet_models = {}\n",
    "    prophet_metrics = pd.DataFrame(columns=[\"store_item\", \"mae\", \"rmse\", \"wape\"])\n",
    "    all_actual, all_predicted = [], []\n",
    "\n",
    "    for combo in unique_combinations:\n",
    "        print(f\"Modeling for: {combo}\")\n",
    "\n",
    "        combo_data = prophet_data[prophet_data[\"store_item\"] == combo].copy()\n",
    "\n",
    "        # Prophet requires columns 'ds' and 'y'\n",
    "        combo_data = combo_data.rename(columns={\"date\": \"ds\", \"sales\": \"y\"})\n",
    "\n",
    "        # Handle missing regressors if any\n",
    "        for reg in [\"is_weekend\", \"is_holiday\", \"temperature\"]:\n",
    "            if reg not in combo_data.columns:\n",
    "                combo_data[reg] = 0  # default fill\n",
    "\n",
    "        # Split into train/test\n",
    "        combo_train = combo_data[combo_data[\"ds\"] < min_test_date]\n",
    "        combo_test = combo_data[\n",
    "            (combo_data[\"ds\"] >= min_test_date) & (combo_data[\"ds\"] <= max_test_date)\n",
    "        ]\n",
    "\n",
    "        # Skip if not enough data\n",
    "        if combo_train.empty or combo_test.empty:\n",
    "            print(f\"Skipping {combo} due to insufficient data.\")\n",
    "            continue\n",
    "\n",
    "        # Initialize and fit the Prophet model\n",
    "        model = Prophet(\n",
    "            daily_seasonality=False,\n",
    "            weekly_seasonality=True,\n",
    "            yearly_seasonality=True,\n",
    "            seasonality_mode=\"multiplicative\",\n",
    "        )\n",
    "\n",
    "        # Add regressors\n",
    "        for reg in [\"is_weekend\", \"is_holiday\", \"temperature\"]:\n",
    "            model.add_regressor(reg)\n",
    "\n",
    "        try:\n",
    "            model.fit(combo_train)\n",
    "        except Exception as e:\n",
    "            print(f\"Failed to train Prophet for {combo}: {e}\")\n",
    "            continue\n",
    "\n",
    "        # Create future dataframe\n",
    "        future = combo_test[[\"ds\", \"is_weekend\", \"is_holiday\", \"temperature\"]]\n",
    "\n",
    "        # Forecast\n",
    "        forecast = model.predict(future)\n",
    "\n",
    "        # Merge actuals\n",
    "        forecast = forecast[[\"ds\", \"yhat\", \"yhat_lower\", \"yhat_upper\"]].merge(\n",
    "            combo_test[[\"ds\", \"y\"]], on=\"ds\"\n",
    "        )\n",
    "\n",
    "        # Save results\n",
    "        prophet_predictions[combo] = forecast\n",
    "        prophet_models[combo] = model\n",
    "\n",
    "        # Evaluate\n",
    "        mae = mean_absolute_error(forecast[\"y\"], forecast[\"yhat\"])\n",
    "        rmse = np.sqrt(mean_squared_error(forecast[\"y\"], forecast[\"yhat\"]))\n",
    "        wape = weighted_absolute_percentage_error(forecast[\"y\"], forecast[\"yhat\"])\n",
    "\n",
    "        prophet_metrics.loc[len(prophet_metrics)] = [combo, mae, rmse, wape]\n",
    "\n",
    "        # Track for overall metrics\n",
    "        all_actual.extend(forecast[\"y\"])\n",
    "        all_predicted.extend(forecast[\"yhat\"])\n",
    "\n",
    "    # Overall metrics\n",
    "    avg_mae = np.mean(prophet_metrics[\"mae\"])\n",
    "    avg_rmse = np.mean(prophet_metrics[\"rmse\"])\n",
    "    avg_wape = weighted_absolute_percentage_error(\n",
    "        np.array(all_actual), np.array(all_predicted)\n",
    "    )\n",
    "\n",
    "    return prophet_models, prophet_predictions, (avg_mae, avg_rmse, avg_wape)"
   ]
  },
  {
   "cell_type": "code",
   "execution_count": 10,
   "id": "159312e4-47e3-4134-a8e7-51168c1e0143",
   "metadata": {
    "scrolled": true
   },
   "outputs": [
    {
     "name": "stdout",
     "output_type": "stream",
     "text": [
      "Building Prophet models for all store-item combinations...\n",
      "Modeling for: Ba Dinh Supermarket_Baby Food\n"
     ]
    },
    {
     "name": "stderr",
     "output_type": "stream",
     "text": [
      "15:55:44 - cmdstanpy - INFO - Chain [1] start processing\n",
      "15:55:44 - cmdstanpy - INFO - Chain [1] done processing\n",
      "15:55:44 - cmdstanpy - INFO - Chain [1] start processing\n",
      "15:55:44 - cmdstanpy - INFO - Chain [1] done processing\n",
      "15:55:44 - cmdstanpy - INFO - Chain [1] start processing\n",
      "15:55:44 - cmdstanpy - INFO - Chain [1] done processing\n"
     ]
    },
    {
     "name": "stdout",
     "output_type": "stream",
     "text": [
      "Modeling for: Ba Dinh Supermarket_Baby Wipes\n",
      "Modeling for: Ba Dinh Supermarket_Cheese\n",
      "Modeling for: Ba Dinh Supermarket_Chips\n"
     ]
    },
    {
     "name": "stderr",
     "output_type": "stream",
     "text": [
      "15:55:44 - cmdstanpy - INFO - Chain [1] start processing\n",
      "15:55:44 - cmdstanpy - INFO - Chain [1] done processing\n",
      "15:55:44 - cmdstanpy - INFO - Chain [1] start processing\n",
      "15:55:44 - cmdstanpy - INFO - Chain [1] done processing\n",
      "15:55:45 - cmdstanpy - INFO - Chain [1] start processing\n",
      "15:55:45 - cmdstanpy - INFO - Chain [1] done processing\n"
     ]
    },
    {
     "name": "stdout",
     "output_type": "stream",
     "text": [
      "Modeling for: Ba Dinh Supermarket_Chocolate\n",
      "Modeling for: Ba Dinh Supermarket_Coffee\n"
     ]
    },
    {
     "name": "stderr",
     "output_type": "stream",
     "text": [
      "15:55:45 - cmdstanpy - INFO - Chain [1] start processing\n",
      "15:55:45 - cmdstanpy - INFO - Chain [1] done processing\n",
      "15:55:45 - cmdstanpy - INFO - Chain [1] start processing\n",
      "15:55:45 - cmdstanpy - INFO - Chain [1] done processing\n"
     ]
    },
    {
     "name": "stdout",
     "output_type": "stream",
     "text": [
      "Modeling for: Ba Dinh Supermarket_Cold & Flu Medicine\n",
      "Modeling for: Ba Dinh Supermarket_Cookies\n"
     ]
    },
    {
     "name": "stderr",
     "output_type": "stream",
     "text": [
      "15:55:45 - cmdstanpy - INFO - Chain [1] start processing\n",
      "15:55:45 - cmdstanpy - INFO - Chain [1] done processing\n",
      "15:55:45 - cmdstanpy - INFO - Chain [1] start processing\n",
      "15:55:45 - cmdstanpy - INFO - Chain [1] done processing\n"
     ]
    },
    {
     "name": "stdout",
     "output_type": "stream",
     "text": [
      "Modeling for: Ba Dinh Supermarket_Cooking Oil\n",
      "Modeling for: Ba Dinh Supermarket_Diapers\n"
     ]
    },
    {
     "name": "stderr",
     "output_type": "stream",
     "text": [
      "15:55:45 - cmdstanpy - INFO - Chain [1] start processing\n",
      "15:55:45 - cmdstanpy - INFO - Chain [1] done processing\n",
      "15:55:45 - cmdstanpy - INFO - Chain [1] start processing\n",
      "15:55:45 - cmdstanpy - INFO - Chain [1] done processing\n"
     ]
    },
    {
     "name": "stdout",
     "output_type": "stream",
     "text": [
      "Modeling for: Ba Dinh Supermarket_Dishwashing Liquid\n",
      "Modeling for: Ba Dinh Supermarket_First Aid Kit\n"
     ]
    },
    {
     "name": "stderr",
     "output_type": "stream",
     "text": [
      "15:55:45 - cmdstanpy - INFO - Chain [1] start processing\n",
      "15:55:45 - cmdstanpy - INFO - Chain [1] done processing\n",
      "15:55:45 - cmdstanpy - INFO - Chain [1] start processing\n",
      "15:55:45 - cmdstanpy - INFO - Chain [1] done processing\n"
     ]
    },
    {
     "name": "stdout",
     "output_type": "stream",
     "text": [
      "Modeling for: Ba Dinh Supermarket_Frozen Vegetables\n",
      "Modeling for: Ba Dinh Supermarket_Ice Cream\n"
     ]
    },
    {
     "name": "stderr",
     "output_type": "stream",
     "text": [
      "15:55:46 - cmdstanpy - INFO - Chain [1] start processing\n",
      "15:55:46 - cmdstanpy - INFO - Chain [1] done processing\n",
      "15:55:46 - cmdstanpy - INFO - Chain [1] start processing\n",
      "15:55:46 - cmdstanpy - INFO - Chain [1] done processing\n"
     ]
    },
    {
     "name": "stdout",
     "output_type": "stream",
     "text": [
      "Modeling for: Ba Dinh Supermarket_Juice\n",
      "Modeling for: Ba Dinh Supermarket_Laundry Detergent\n"
     ]
    },
    {
     "name": "stderr",
     "output_type": "stream",
     "text": [
      "15:55:46 - cmdstanpy - INFO - Chain [1] start processing\n",
      "15:55:46 - cmdstanpy - INFO - Chain [1] done processing\n",
      "15:55:46 - cmdstanpy - INFO - Chain [1] start processing\n"
     ]
    },
    {
     "name": "stdout",
     "output_type": "stream",
     "text": [
      "Modeling for: Ba Dinh Supermarket_Milk\n",
      "Modeling for: Ba Dinh Supermarket_Pain Relievers\n"
     ]
    },
    {
     "name": "stderr",
     "output_type": "stream",
     "text": [
      "15:55:46 - cmdstanpy - INFO - Chain [1] done processing\n",
      "15:55:46 - cmdstanpy - INFO - Chain [1] start processing\n",
      "15:55:46 - cmdstanpy - INFO - Chain [1] done processing\n",
      "15:55:46 - cmdstanpy - INFO - Chain [1] start processing\n",
      "15:55:46 - cmdstanpy - INFO - Chain [1] done processing\n"
     ]
    },
    {
     "name": "stdout",
     "output_type": "stream",
     "text": [
      "Modeling for: Ba Dinh Supermarket_Paper Towels\n",
      "Modeling for: Ba Dinh Supermarket_Rice\n"
     ]
    },
    {
     "name": "stderr",
     "output_type": "stream",
     "text": [
      "15:55:46 - cmdstanpy - INFO - Chain [1] start processing\n",
      "15:55:46 - cmdstanpy - INFO - Chain [1] done processing\n",
      "15:55:46 - cmdstanpy - INFO - Chain [1] start processing\n",
      "15:55:46 - cmdstanpy - INFO - Chain [1] done processing\n"
     ]
    },
    {
     "name": "stdout",
     "output_type": "stream",
     "text": [
      "Modeling for: Ba Dinh Supermarket_Soap\n",
      "Modeling for: Ba Dinh Supermarket_Soda\n"
     ]
    },
    {
     "name": "stderr",
     "output_type": "stream",
     "text": [
      "15:55:46 - cmdstanpy - INFO - Chain [1] start processing\n",
      "15:55:47 - cmdstanpy - INFO - Chain [1] done processing\n",
      "15:55:47 - cmdstanpy - INFO - Chain [1] start processing\n",
      "15:55:47 - cmdstanpy - INFO - Chain [1] done processing\n"
     ]
    },
    {
     "name": "stdout",
     "output_type": "stream",
     "text": [
      "Modeling for: Ba Dinh Supermarket_Sugar\n",
      "Modeling for: Ba Dinh Supermarket_Tea\n"
     ]
    },
    {
     "name": "stderr",
     "output_type": "stream",
     "text": [
      "15:55:47 - cmdstanpy - INFO - Chain [1] start processing\n",
      "15:55:47 - cmdstanpy - INFO - Chain [1] done processing\n",
      "15:55:47 - cmdstanpy - INFO - Chain [1] start processing\n",
      "15:55:47 - cmdstanpy - INFO - Chain [1] done processing\n"
     ]
    },
    {
     "name": "stdout",
     "output_type": "stream",
     "text": [
      "Modeling for: Ba Dinh Supermarket_Toilet Paper\n",
      "Modeling for: Ba Dinh Supermarket_Trash Bags\n"
     ]
    },
    {
     "name": "stderr",
     "output_type": "stream",
     "text": [
      "15:55:47 - cmdstanpy - INFO - Chain [1] start processing\n",
      "15:55:47 - cmdstanpy - INFO - Chain [1] done processing\n",
      "15:55:47 - cmdstanpy - INFO - Chain [1] start processing\n",
      "15:55:47 - cmdstanpy - INFO - Chain [1] done processing\n"
     ]
    },
    {
     "name": "stdout",
     "output_type": "stream",
     "text": [
      "Modeling for: Ba Dinh Supermarket_Vitamins\n",
      "Modeling for: Ba Dinh Supermarket_Yogurt\n"
     ]
    },
    {
     "name": "stderr",
     "output_type": "stream",
     "text": [
      "15:55:47 - cmdstanpy - INFO - Chain [1] start processing\n",
      "15:55:47 - cmdstanpy - INFO - Chain [1] done processing\n",
      "15:55:47 - cmdstanpy - INFO - Chain [1] start processing\n",
      "15:55:47 - cmdstanpy - INFO - Chain [1] done processing\n"
     ]
    },
    {
     "name": "stdout",
     "output_type": "stream",
     "text": [
      "Modeling for: Ben Thanh Store_All-Purpose Cleaner\n",
      "Modeling for: Ben Thanh Store_Baby Food\n"
     ]
    },
    {
     "name": "stderr",
     "output_type": "stream",
     "text": [
      "15:55:47 - cmdstanpy - INFO - Chain [1] start processing\n",
      "15:55:47 - cmdstanpy - INFO - Chain [1] done processing\n",
      "15:55:48 - cmdstanpy - INFO - Chain [1] start processing\n",
      "15:55:48 - cmdstanpy - INFO - Chain [1] done processing\n"
     ]
    },
    {
     "name": "stdout",
     "output_type": "stream",
     "text": [
      "Modeling for: Ben Thanh Store_Baby Wipes\n",
      "Modeling for: Ben Thanh Store_Bread\n",
      "Modeling for: Ben Thanh Store_Cheese\n"
     ]
    },
    {
     "name": "stderr",
     "output_type": "stream",
     "text": [
      "15:55:48 - cmdstanpy - INFO - Chain [1] start processing\n",
      "15:55:48 - cmdstanpy - INFO - Chain [1] done processing\n",
      "15:55:48 - cmdstanpy - INFO - Chain [1] start processing\n",
      "15:55:48 - cmdstanpy - INFO - Chain [1] done processing\n",
      "15:55:48 - cmdstanpy - INFO - Chain [1] start processing\n",
      "15:55:48 - cmdstanpy - INFO - Chain [1] done processing\n"
     ]
    },
    {
     "name": "stdout",
     "output_type": "stream",
     "text": [
      "Modeling for: Ben Thanh Store_Chips\n",
      "Modeling for: Ben Thanh Store_Chocolate\n",
      "Modeling for: Ben Thanh Store_Coffee\n"
     ]
    },
    {
     "name": "stderr",
     "output_type": "stream",
     "text": [
      "15:55:48 - cmdstanpy - INFO - Chain [1] start processing\n",
      "15:55:48 - cmdstanpy - INFO - Chain [1] done processing\n",
      "15:55:48 - cmdstanpy - INFO - Chain [1] start processing\n",
      "15:55:48 - cmdstanpy - INFO - Chain [1] done processing\n",
      "15:55:48 - cmdstanpy - INFO - Chain [1] start processing\n",
      "15:55:48 - cmdstanpy - INFO - Chain [1] done processing\n"
     ]
    },
    {
     "name": "stdout",
     "output_type": "stream",
     "text": [
      "Modeling for: Ben Thanh Store_Cookies\n",
      "Modeling for: Ben Thanh Store_Cooking Oil\n"
     ]
    },
    {
     "name": "stderr",
     "output_type": "stream",
     "text": [
      "15:55:48 - cmdstanpy - INFO - Chain [1] start processing\n",
      "15:55:48 - cmdstanpy - INFO - Chain [1] done processing\n",
      "15:55:48 - cmdstanpy - INFO - Chain [1] start processing\n",
      "15:55:48 - cmdstanpy - INFO - Chain [1] done processing\n"
     ]
    },
    {
     "name": "stdout",
     "output_type": "stream",
     "text": [
      "Modeling for: Ben Thanh Store_Diapers\n",
      "Modeling for: Ben Thanh Store_Dishwashing Liquid\n"
     ]
    },
    {
     "name": "stderr",
     "output_type": "stream",
     "text": [
      "15:55:48 - cmdstanpy - INFO - Chain [1] start processing\n",
      "15:55:48 - cmdstanpy - INFO - Chain [1] done processing\n",
      "15:55:49 - cmdstanpy - INFO - Chain [1] start processing\n",
      "15:55:49 - cmdstanpy - INFO - Chain [1] done processing\n"
     ]
    },
    {
     "name": "stdout",
     "output_type": "stream",
     "text": [
      "Modeling for: Ben Thanh Store_Frozen Vegetables\n",
      "Modeling for: Ben Thanh Store_Ice Cream\n",
      "Modeling for: Ben Thanh Store_Juice\n"
     ]
    },
    {
     "name": "stderr",
     "output_type": "stream",
     "text": [
      "15:55:49 - cmdstanpy - INFO - Chain [1] start processing\n",
      "15:55:49 - cmdstanpy - INFO - Chain [1] done processing\n",
      "15:55:49 - cmdstanpy - INFO - Chain [1] start processing\n",
      "15:55:49 - cmdstanpy - INFO - Chain [1] done processing\n",
      "15:55:49 - cmdstanpy - INFO - Chain [1] start processing\n",
      "15:55:49 - cmdstanpy - INFO - Chain [1] done processing\n"
     ]
    },
    {
     "name": "stdout",
     "output_type": "stream",
     "text": [
      "Modeling for: Ben Thanh Store_Pain Relievers\n",
      "Modeling for: Ben Thanh Store_Shampoo\n"
     ]
    },
    {
     "name": "stderr",
     "output_type": "stream",
     "text": [
      "15:55:49 - cmdstanpy - INFO - Chain [1] start processing\n",
      "15:55:49 - cmdstanpy - INFO - Chain [1] done processing\n",
      "15:55:49 - cmdstanpy - INFO - Chain [1] start processing\n",
      "15:55:49 - cmdstanpy - INFO - Chain [1] done processing\n"
     ]
    },
    {
     "name": "stdout",
     "output_type": "stream",
     "text": [
      "Modeling for: Ben Thanh Store_Soap\n",
      "Modeling for: Ben Thanh Store_Soda\n"
     ]
    },
    {
     "name": "stderr",
     "output_type": "stream",
     "text": [
      "15:55:49 - cmdstanpy - INFO - Chain [1] start processing\n",
      "15:55:49 - cmdstanpy - INFO - Chain [1] done processing\n",
      "15:55:49 - cmdstanpy - INFO - Chain [1] start processing\n"
     ]
    },
    {
     "name": "stdout",
     "output_type": "stream",
     "text": [
      "Modeling for: Ben Thanh Store_Sugar\n",
      "Modeling for: Ben Thanh Store_Tea\n"
     ]
    },
    {
     "name": "stderr",
     "output_type": "stream",
     "text": [
      "15:55:49 - cmdstanpy - INFO - Chain [1] done processing\n",
      "15:55:49 - cmdstanpy - INFO - Chain [1] start processing\n",
      "15:55:50 - cmdstanpy - INFO - Chain [1] done processing\n",
      "15:55:50 - cmdstanpy - INFO - Chain [1] start processing\n",
      "15:55:50 - cmdstanpy - INFO - Chain [1] done processing\n"
     ]
    },
    {
     "name": "stdout",
     "output_type": "stream",
     "text": [
      "Modeling for: Ben Thanh Store_Toilet Paper\n",
      "Modeling for: Ben Thanh Store_Trash Bags\n"
     ]
    },
    {
     "name": "stderr",
     "output_type": "stream",
     "text": [
      "15:55:50 - cmdstanpy - INFO - Chain [1] start processing\n",
      "15:55:50 - cmdstanpy - INFO - Chain [1] done processing\n",
      "15:55:50 - cmdstanpy - INFO - Chain [1] start processing\n"
     ]
    },
    {
     "name": "stdout",
     "output_type": "stream",
     "text": [
      "Modeling for: Ben Thanh Store_Water\n",
      "Modeling for: Ben Thanh Store_Yogurt\n"
     ]
    },
    {
     "name": "stderr",
     "output_type": "stream",
     "text": [
      "15:55:50 - cmdstanpy - INFO - Chain [1] done processing\n",
      "15:55:50 - cmdstanpy - INFO - Chain [1] start processing\n",
      "15:55:50 - cmdstanpy - INFO - Chain [1] done processing\n",
      "15:55:50 - cmdstanpy - INFO - Chain [1] start processing\n",
      "15:55:50 - cmdstanpy - INFO - Chain [1] done processing\n"
     ]
    },
    {
     "name": "stdout",
     "output_type": "stream",
     "text": [
      "Modeling for: Binh Thanh Market_All-Purpose Cleaner\n",
      "Modeling for: Binh Thanh Market_Baby Food\n"
     ]
    },
    {
     "name": "stderr",
     "output_type": "stream",
     "text": [
      "15:55:50 - cmdstanpy - INFO - Chain [1] start processing\n",
      "15:55:50 - cmdstanpy - INFO - Chain [1] done processing\n",
      "15:55:50 - cmdstanpy - INFO - Chain [1] start processing\n",
      "15:55:50 - cmdstanpy - INFO - Chain [1] done processing\n"
     ]
    },
    {
     "name": "stdout",
     "output_type": "stream",
     "text": [
      "Modeling for: Binh Thanh Market_Baby Wipes\n",
      "Modeling for: Binh Thanh Market_Bread\n"
     ]
    },
    {
     "name": "stderr",
     "output_type": "stream",
     "text": [
      "15:55:50 - cmdstanpy - INFO - Chain [1] start processing\n",
      "15:55:51 - cmdstanpy - INFO - Chain [1] done processing\n",
      "15:55:51 - cmdstanpy - INFO - Chain [1] start processing\n",
      "15:55:51 - cmdstanpy - INFO - Chain [1] done processing\n"
     ]
    },
    {
     "name": "stdout",
     "output_type": "stream",
     "text": [
      "Modeling for: Binh Thanh Market_Coffee\n",
      "Modeling for: Binh Thanh Market_Cold & Flu Medicine\n"
     ]
    },
    {
     "name": "stderr",
     "output_type": "stream",
     "text": [
      "15:55:51 - cmdstanpy - INFO - Chain [1] start processing\n",
      "15:55:51 - cmdstanpy - INFO - Chain [1] done processing\n",
      "15:55:51 - cmdstanpy - INFO - Chain [1] start processing\n",
      "15:55:51 - cmdstanpy - INFO - Chain [1] done processing\n"
     ]
    },
    {
     "name": "stdout",
     "output_type": "stream",
     "text": [
      "Modeling for: Binh Thanh Market_Cookies\n",
      "Modeling for: Binh Thanh Market_Cooking Oil\n"
     ]
    },
    {
     "name": "stderr",
     "output_type": "stream",
     "text": [
      "15:55:51 - cmdstanpy - INFO - Chain [1] start processing\n",
      "15:55:51 - cmdstanpy - INFO - Chain [1] done processing\n",
      "15:55:51 - cmdstanpy - INFO - Chain [1] start processing\n",
      "15:55:51 - cmdstanpy - INFO - Chain [1] done processing\n"
     ]
    },
    {
     "name": "stdout",
     "output_type": "stream",
     "text": [
      "Modeling for: Binh Thanh Market_Diapers\n",
      "Modeling for: Binh Thanh Market_Dishwashing Liquid\n",
      "Modeling for: Binh Thanh Market_First Aid Kit\n"
     ]
    },
    {
     "name": "stderr",
     "output_type": "stream",
     "text": [
      "15:55:51 - cmdstanpy - INFO - Chain [1] start processing\n",
      "15:55:51 - cmdstanpy - INFO - Chain [1] done processing\n",
      "15:55:51 - cmdstanpy - INFO - Chain [1] start processing\n",
      "15:55:51 - cmdstanpy - INFO - Chain [1] done processing\n",
      "15:55:51 - cmdstanpy - INFO - Chain [1] start processing\n",
      "15:55:51 - cmdstanpy - INFO - Chain [1] done processing\n"
     ]
    },
    {
     "name": "stdout",
     "output_type": "stream",
     "text": [
      "Modeling for: Binh Thanh Market_Ice Cream\n",
      "Modeling for: Binh Thanh Market_Juice\n"
     ]
    },
    {
     "name": "stderr",
     "output_type": "stream",
     "text": [
      "15:55:51 - cmdstanpy - INFO - Chain [1] start processing\n",
      "15:55:52 - cmdstanpy - INFO - Chain [1] done processing\n",
      "15:55:52 - cmdstanpy - INFO - Chain [1] start processing\n",
      "15:55:52 - cmdstanpy - INFO - Chain [1] done processing\n"
     ]
    },
    {
     "name": "stdout",
     "output_type": "stream",
     "text": [
      "Modeling for: Binh Thanh Market_Milk\n",
      "Modeling for: Binh Thanh Market_Noodles\n"
     ]
    },
    {
     "name": "stderr",
     "output_type": "stream",
     "text": [
      "15:55:52 - cmdstanpy - INFO - Chain [1] start processing\n",
      "15:55:52 - cmdstanpy - INFO - Chain [1] done processing\n",
      "15:55:52 - cmdstanpy - INFO - Chain [1] start processing\n",
      "15:55:52 - cmdstanpy - INFO - Chain [1] done processing\n"
     ]
    },
    {
     "name": "stdout",
     "output_type": "stream",
     "text": [
      "Modeling for: Binh Thanh Market_Pain Relievers\n",
      "Modeling for: Binh Thanh Market_Paper Towels\n"
     ]
    },
    {
     "name": "stderr",
     "output_type": "stream",
     "text": [
      "15:55:52 - cmdstanpy - INFO - Chain [1] start processing\n",
      "15:55:52 - cmdstanpy - INFO - Chain [1] done processing\n",
      "15:55:52 - cmdstanpy - INFO - Chain [1] start processing\n",
      "15:55:52 - cmdstanpy - INFO - Chain [1] done processing\n"
     ]
    },
    {
     "name": "stdout",
     "output_type": "stream",
     "text": [
      "Modeling for: Binh Thanh Market_Rice\n",
      "Modeling for: Binh Thanh Market_Shampoo\n"
     ]
    },
    {
     "name": "stderr",
     "output_type": "stream",
     "text": [
      "15:55:52 - cmdstanpy - INFO - Chain [1] start processing\n",
      "15:55:52 - cmdstanpy - INFO - Chain [1] done processing\n",
      "15:55:52 - cmdstanpy - INFO - Chain [1] start processing\n",
      "15:55:52 - cmdstanpy - INFO - Chain [1] done processing\n"
     ]
    },
    {
     "name": "stdout",
     "output_type": "stream",
     "text": [
      "Modeling for: Binh Thanh Market_Soap\n",
      "Modeling for: Binh Thanh Market_Soda\n"
     ]
    },
    {
     "name": "stderr",
     "output_type": "stream",
     "text": [
      "15:55:52 - cmdstanpy - INFO - Chain [1] start processing\n",
      "15:55:52 - cmdstanpy - INFO - Chain [1] done processing\n",
      "15:55:52 - cmdstanpy - INFO - Chain [1] start processing\n",
      "15:55:53 - cmdstanpy - INFO - Chain [1] done processing\n"
     ]
    },
    {
     "name": "stdout",
     "output_type": "stream",
     "text": [
      "Modeling for: Binh Thanh Market_Sugar\n",
      "Modeling for: Binh Thanh Market_Toilet Paper\n"
     ]
    },
    {
     "name": "stderr",
     "output_type": "stream",
     "text": [
      "15:55:53 - cmdstanpy - INFO - Chain [1] start processing\n",
      "15:55:53 - cmdstanpy - INFO - Chain [1] done processing\n",
      "15:55:53 - cmdstanpy - INFO - Chain [1] start processing\n",
      "15:55:53 - cmdstanpy - INFO - Chain [1] done processing\n"
     ]
    },
    {
     "name": "stdout",
     "output_type": "stream",
     "text": [
      "Modeling for: Binh Thanh Market_Trash Bags\n",
      "Modeling for: Binh Thanh Market_Vitamins\n"
     ]
    },
    {
     "name": "stderr",
     "output_type": "stream",
     "text": [
      "15:55:53 - cmdstanpy - INFO - Chain [1] start processing\n",
      "15:55:53 - cmdstanpy - INFO - Chain [1] done processing\n",
      "15:55:53 - cmdstanpy - INFO - Chain [1] start processing\n",
      "15:55:53 - cmdstanpy - INFO - Chain [1] done processing\n"
     ]
    },
    {
     "name": "stdout",
     "output_type": "stream",
     "text": [
      "Modeling for: Binh Thanh Market_Water\n",
      "Modeling for: Binh Thanh Market_Yogurt\n"
     ]
    },
    {
     "name": "stderr",
     "output_type": "stream",
     "text": [
      "15:55:53 - cmdstanpy - INFO - Chain [1] start processing\n",
      "15:55:53 - cmdstanpy - INFO - Chain [1] done processing\n",
      "15:55:53 - cmdstanpy - INFO - Chain [1] start processing\n"
     ]
    },
    {
     "name": "stdout",
     "output_type": "stream",
     "text": [
      "Modeling for: District 1 Market_Baby Food\n",
      "Modeling for: District 1 Market_Bread\n"
     ]
    },
    {
     "name": "stderr",
     "output_type": "stream",
     "text": [
      "15:55:53 - cmdstanpy - INFO - Chain [1] done processing\n",
      "15:55:53 - cmdstanpy - INFO - Chain [1] start processing\n",
      "15:55:53 - cmdstanpy - INFO - Chain [1] done processing\n",
      "15:55:53 - cmdstanpy - INFO - Chain [1] start processing\n",
      "15:55:53 - cmdstanpy - INFO - Chain [1] done processing\n"
     ]
    },
    {
     "name": "stdout",
     "output_type": "stream",
     "text": [
      "Modeling for: District 1 Market_Cheese\n",
      "Modeling for: District 1 Market_Chips\n",
      "Modeling for: District 1 Market_Chocolate\n"
     ]
    },
    {
     "name": "stderr",
     "output_type": "stream",
     "text": [
      "15:55:54 - cmdstanpy - INFO - Chain [1] start processing\n",
      "15:55:54 - cmdstanpy - INFO - Chain [1] done processing\n",
      "15:55:54 - cmdstanpy - INFO - Chain [1] start processing\n",
      "15:55:54 - cmdstanpy - INFO - Chain [1] done processing\n",
      "15:55:54 - cmdstanpy - INFO - Chain [1] start processing\n",
      "15:55:54 - cmdstanpy - INFO - Chain [1] done processing\n"
     ]
    },
    {
     "name": "stdout",
     "output_type": "stream",
     "text": [
      "Modeling for: District 1 Market_Coffee\n",
      "Modeling for: District 1 Market_Cold & Flu Medicine\n"
     ]
    },
    {
     "name": "stderr",
     "output_type": "stream",
     "text": [
      "15:55:54 - cmdstanpy - INFO - Chain [1] start processing\n",
      "15:55:54 - cmdstanpy - INFO - Chain [1] done processing\n",
      "15:55:54 - cmdstanpy - INFO - Chain [1] start processing\n",
      "15:55:54 - cmdstanpy - INFO - Chain [1] done processing\n"
     ]
    },
    {
     "name": "stdout",
     "output_type": "stream",
     "text": [
      "Modeling for: District 1 Market_Cookies\n",
      "Modeling for: District 1 Market_Cooking Oil\n",
      "Modeling for: District 1 Market_Diapers\n"
     ]
    },
    {
     "name": "stderr",
     "output_type": "stream",
     "text": [
      "15:55:54 - cmdstanpy - INFO - Chain [1] start processing\n",
      "15:55:54 - cmdstanpy - INFO - Chain [1] done processing\n",
      "15:55:54 - cmdstanpy - INFO - Chain [1] start processing\n",
      "15:55:54 - cmdstanpy - INFO - Chain [1] done processing\n",
      "15:55:54 - cmdstanpy - INFO - Chain [1] start processing\n",
      "15:55:54 - cmdstanpy - INFO - Chain [1] done processing\n"
     ]
    },
    {
     "name": "stdout",
     "output_type": "stream",
     "text": [
      "Modeling for: District 1 Market_Dishwashing Liquid\n",
      "Modeling for: District 1 Market_First Aid Kit\n"
     ]
    },
    {
     "name": "stderr",
     "output_type": "stream",
     "text": [
      "15:55:54 - cmdstanpy - INFO - Chain [1] start processing\n",
      "15:55:54 - cmdstanpy - INFO - Chain [1] done processing\n",
      "15:55:55 - cmdstanpy - INFO - Chain [1] start processing\n",
      "15:55:55 - cmdstanpy - INFO - Chain [1] done processing\n"
     ]
    },
    {
     "name": "stdout",
     "output_type": "stream",
     "text": [
      "Modeling for: District 1 Market_Flour\n",
      "Modeling for: District 1 Market_Frozen Vegetables\n"
     ]
    },
    {
     "name": "stderr",
     "output_type": "stream",
     "text": [
      "15:55:55 - cmdstanpy - INFO - Chain [1] start processing\n",
      "15:55:55 - cmdstanpy - INFO - Chain [1] done processing\n",
      "15:55:55 - cmdstanpy - INFO - Chain [1] start processing\n",
      "15:55:55 - cmdstanpy - INFO - Chain [1] done processing\n"
     ]
    },
    {
     "name": "stdout",
     "output_type": "stream",
     "text": [
      "Modeling for: District 1 Market_Ice Cream\n",
      "Modeling for: District 1 Market_Juice\n",
      "Modeling for: District 1 Market_Laundry Detergent\n"
     ]
    },
    {
     "name": "stderr",
     "output_type": "stream",
     "text": [
      "15:55:55 - cmdstanpy - INFO - Chain [1] start processing\n",
      "15:55:55 - cmdstanpy - INFO - Chain [1] done processing\n",
      "15:55:55 - cmdstanpy - INFO - Chain [1] start processing\n",
      "15:55:55 - cmdstanpy - INFO - Chain [1] done processing\n",
      "15:55:55 - cmdstanpy - INFO - Chain [1] start processing\n",
      "15:55:55 - cmdstanpy - INFO - Chain [1] done processing\n"
     ]
    },
    {
     "name": "stdout",
     "output_type": "stream",
     "text": [
      "Modeling for: District 1 Market_Milk\n",
      "Modeling for: District 1 Market_Noodles\n"
     ]
    },
    {
     "name": "stderr",
     "output_type": "stream",
     "text": [
      "15:55:55 - cmdstanpy - INFO - Chain [1] start processing\n",
      "15:55:55 - cmdstanpy - INFO - Chain [1] done processing\n",
      "15:55:55 - cmdstanpy - INFO - Chain [1] start processing\n",
      "15:55:55 - cmdstanpy - INFO - Chain [1] done processing\n"
     ]
    },
    {
     "name": "stdout",
     "output_type": "stream",
     "text": [
      "Modeling for: District 1 Market_Pain Relievers\n",
      "Modeling for: District 1 Market_Rice\n"
     ]
    },
    {
     "name": "stderr",
     "output_type": "stream",
     "text": [
      "15:55:55 - cmdstanpy - INFO - Chain [1] start processing\n",
      "15:55:55 - cmdstanpy - INFO - Chain [1] done processing\n",
      "15:55:55 - cmdstanpy - INFO - Chain [1] start processing\n",
      "15:55:56 - cmdstanpy - INFO - Chain [1] done processing\n"
     ]
    },
    {
     "name": "stdout",
     "output_type": "stream",
     "text": [
      "Modeling for: District 1 Market_Shampoo\n",
      "Modeling for: District 1 Market_Soap\n"
     ]
    },
    {
     "name": "stderr",
     "output_type": "stream",
     "text": [
      "15:55:56 - cmdstanpy - INFO - Chain [1] start processing\n",
      "15:55:56 - cmdstanpy - INFO - Chain [1] done processing\n",
      "15:55:56 - cmdstanpy - INFO - Chain [1] start processing\n",
      "15:55:56 - cmdstanpy - INFO - Chain [1] done processing\n"
     ]
    },
    {
     "name": "stdout",
     "output_type": "stream",
     "text": [
      "Modeling for: District 1 Market_Sugar\n",
      "Modeling for: District 1 Market_Tea\n"
     ]
    },
    {
     "name": "stderr",
     "output_type": "stream",
     "text": [
      "15:55:56 - cmdstanpy - INFO - Chain [1] start processing\n",
      "15:55:56 - cmdstanpy - INFO - Chain [1] done processing\n",
      "15:55:56 - cmdstanpy - INFO - Chain [1] start processing\n",
      "15:55:56 - cmdstanpy - INFO - Chain [1] done processing\n"
     ]
    },
    {
     "name": "stdout",
     "output_type": "stream",
     "text": [
      "Modeling for: District 1 Market_Toilet Paper\n",
      "Modeling for: District 1 Market_Toothpaste\n"
     ]
    },
    {
     "name": "stderr",
     "output_type": "stream",
     "text": [
      "15:55:56 - cmdstanpy - INFO - Chain [1] start processing\n",
      "15:55:56 - cmdstanpy - INFO - Chain [1] done processing\n",
      "15:55:56 - cmdstanpy - INFO - Chain [1] start processing\n",
      "15:55:56 - cmdstanpy - INFO - Chain [1] done processing\n"
     ]
    },
    {
     "name": "stdout",
     "output_type": "stream",
     "text": [
      "Modeling for: District 1 Market_Yogurt\n",
      "Modeling for: Dong Da Mall_All-Purpose Cleaner\n"
     ]
    },
    {
     "name": "stderr",
     "output_type": "stream",
     "text": [
      "15:55:56 - cmdstanpy - INFO - Chain [1] start processing\n",
      "15:55:56 - cmdstanpy - INFO - Chain [1] done processing\n",
      "15:55:56 - cmdstanpy - INFO - Chain [1] start processing\n",
      "15:55:56 - cmdstanpy - INFO - Chain [1] done processing\n"
     ]
    },
    {
     "name": "stdout",
     "output_type": "stream",
     "text": [
      "Modeling for: Dong Da Mall_Baby Food\n",
      "Modeling for: Dong Da Mall_Bread\n",
      "Modeling for: Dong Da Mall_Cheese\n"
     ]
    },
    {
     "name": "stderr",
     "output_type": "stream",
     "text": [
      "15:55:56 - cmdstanpy - INFO - Chain [1] start processing\n",
      "15:55:57 - cmdstanpy - INFO - Chain [1] done processing\n",
      "15:55:57 - cmdstanpy - INFO - Chain [1] start processing\n",
      "15:55:57 - cmdstanpy - INFO - Chain [1] done processing\n",
      "15:55:57 - cmdstanpy - INFO - Chain [1] start processing\n",
      "15:55:57 - cmdstanpy - INFO - Chain [1] done processing\n"
     ]
    },
    {
     "name": "stdout",
     "output_type": "stream",
     "text": [
      "Modeling for: Dong Da Mall_Chips\n",
      "Modeling for: Dong Da Mall_Chocolate\n"
     ]
    },
    {
     "name": "stderr",
     "output_type": "stream",
     "text": [
      "15:55:57 - cmdstanpy - INFO - Chain [1] start processing\n",
      "15:55:57 - cmdstanpy - INFO - Chain [1] done processing\n",
      "15:55:57 - cmdstanpy - INFO - Chain [1] start processing\n",
      "15:55:57 - cmdstanpy - INFO - Chain [1] done processing\n"
     ]
    },
    {
     "name": "stdout",
     "output_type": "stream",
     "text": [
      "Modeling for: Dong Da Mall_Cold & Flu Medicine\n",
      "Modeling for: Dong Da Mall_Diapers\n"
     ]
    },
    {
     "name": "stderr",
     "output_type": "stream",
     "text": [
      "15:55:57 - cmdstanpy - INFO - Chain [1] start processing\n",
      "15:55:57 - cmdstanpy - INFO - Chain [1] done processing\n",
      "15:55:57 - cmdstanpy - INFO - Chain [1] start processing\n",
      "15:55:57 - cmdstanpy - INFO - Chain [1] done processing\n"
     ]
    },
    {
     "name": "stdout",
     "output_type": "stream",
     "text": [
      "Modeling for: Dong Da Mall_Dishwashing Liquid\n",
      "Modeling for: Dong Da Mall_First Aid Kit\n"
     ]
    },
    {
     "name": "stderr",
     "output_type": "stream",
     "text": [
      "15:55:57 - cmdstanpy - INFO - Chain [1] start processing\n",
      "15:55:57 - cmdstanpy - INFO - Chain [1] done processing\n",
      "15:55:57 - cmdstanpy - INFO - Chain [1] start processing\n",
      "15:55:57 - cmdstanpy - INFO - Chain [1] done processing\n"
     ]
    },
    {
     "name": "stdout",
     "output_type": "stream",
     "text": [
      "Modeling for: Dong Da Mall_Flour\n",
      "Modeling for: Dong Da Mall_Frozen Vegetables\n"
     ]
    },
    {
     "name": "stderr",
     "output_type": "stream",
     "text": [
      "15:55:57 - cmdstanpy - INFO - Chain [1] start processing\n",
      "15:55:58 - cmdstanpy - INFO - Chain [1] done processing\n",
      "15:55:58 - cmdstanpy - INFO - Chain [1] start processing\n",
      "15:55:58 - cmdstanpy - INFO - Chain [1] done processing\n"
     ]
    },
    {
     "name": "stdout",
     "output_type": "stream",
     "text": [
      "Modeling for: Dong Da Mall_Ice Cream\n",
      "Modeling for: Dong Da Mall_Juice\n"
     ]
    },
    {
     "name": "stderr",
     "output_type": "stream",
     "text": [
      "15:55:58 - cmdstanpy - INFO - Chain [1] start processing\n",
      "15:55:58 - cmdstanpy - INFO - Chain [1] done processing\n",
      "15:55:58 - cmdstanpy - INFO - Chain [1] start processing\n",
      "15:55:58 - cmdstanpy - INFO - Chain [1] done processing\n"
     ]
    },
    {
     "name": "stdout",
     "output_type": "stream",
     "text": [
      "Modeling for: Dong Da Mall_Laundry Detergent\n",
      "Modeling for: Dong Da Mall_Noodles\n"
     ]
    },
    {
     "name": "stderr",
     "output_type": "stream",
     "text": [
      "15:55:58 - cmdstanpy - INFO - Chain [1] start processing\n",
      "15:55:58 - cmdstanpy - INFO - Chain [1] done processing\n",
      "15:55:58 - cmdstanpy - INFO - Chain [1] start processing\n",
      "15:55:58 - cmdstanpy - INFO - Chain [1] done processing\n"
     ]
    },
    {
     "name": "stdout",
     "output_type": "stream",
     "text": [
      "Modeling for: Dong Da Mall_Pain Relievers\n",
      "Modeling for: Dong Da Mall_Paper Towels\n"
     ]
    },
    {
     "name": "stderr",
     "output_type": "stream",
     "text": [
      "15:55:58 - cmdstanpy - INFO - Chain [1] start processing\n",
      "15:55:58 - cmdstanpy - INFO - Chain [1] done processing\n",
      "15:55:58 - cmdstanpy - INFO - Chain [1] start processing\n",
      "15:55:58 - cmdstanpy - INFO - Chain [1] done processing\n"
     ]
    },
    {
     "name": "stdout",
     "output_type": "stream",
     "text": [
      "Modeling for: Dong Da Mall_Rice\n",
      "Modeling for: Dong Da Mall_Shampoo\n"
     ]
    },
    {
     "name": "stderr",
     "output_type": "stream",
     "text": [
      "15:55:58 - cmdstanpy - INFO - Chain [1] start processing\n",
      "15:55:58 - cmdstanpy - INFO - Chain [1] done processing\n",
      "15:55:58 - cmdstanpy - INFO - Chain [1] start processing\n",
      "15:55:58 - cmdstanpy - INFO - Chain [1] done processing\n"
     ]
    },
    {
     "name": "stdout",
     "output_type": "stream",
     "text": [
      "Modeling for: Dong Da Mall_Soap\n",
      "Modeling for: Dong Da Mall_Soda\n",
      "Modeling for: Dong Da Mall_Sugar\n"
     ]
    },
    {
     "name": "stderr",
     "output_type": "stream",
     "text": [
      "15:55:59 - cmdstanpy - INFO - Chain [1] start processing\n",
      "15:55:59 - cmdstanpy - INFO - Chain [1] done processing\n",
      "15:55:59 - cmdstanpy - INFO - Chain [1] start processing\n",
      "15:55:59 - cmdstanpy - INFO - Chain [1] done processing\n",
      "15:55:59 - cmdstanpy - INFO - Chain [1] start processing\n",
      "15:55:59 - cmdstanpy - INFO - Chain [1] done processing\n"
     ]
    },
    {
     "name": "stdout",
     "output_type": "stream",
     "text": [
      "Modeling for: Dong Da Mall_Tea\n",
      "Modeling for: Dong Da Mall_Toothpaste\n"
     ]
    },
    {
     "name": "stderr",
     "output_type": "stream",
     "text": [
      "15:55:59 - cmdstanpy - INFO - Chain [1] start processing\n",
      "15:55:59 - cmdstanpy - INFO - Chain [1] done processing\n",
      "15:55:59 - cmdstanpy - INFO - Chain [1] start processing\n",
      "15:55:59 - cmdstanpy - INFO - Chain [1] done processing\n"
     ]
    },
    {
     "name": "stdout",
     "output_type": "stream",
     "text": [
      "Modeling for: Dong Da Mall_Trash Bags\n",
      "Modeling for: Dong Da Mall_Vitamins\n"
     ]
    },
    {
     "name": "stderr",
     "output_type": "stream",
     "text": [
      "15:55:59 - cmdstanpy - INFO - Chain [1] start processing\n",
      "15:55:59 - cmdstanpy - INFO - Chain [1] done processing\n",
      "15:55:59 - cmdstanpy - INFO - Chain [1] start processing\n",
      "15:55:59 - cmdstanpy - INFO - Chain [1] done processing\n"
     ]
    },
    {
     "name": "stdout",
     "output_type": "stream",
     "text": [
      "Modeling for: Dong Da Mall_Water\n",
      "Modeling for: Dong Da Mall_Yogurt\n",
      "Modeling for: Hoan Kiem Market_All-Purpose Cleaner\n"
     ]
    },
    {
     "name": "stderr",
     "output_type": "stream",
     "text": [
      "15:55:59 - cmdstanpy - INFO - Chain [1] start processing\n",
      "15:55:59 - cmdstanpy - INFO - Chain [1] done processing\n",
      "15:55:59 - cmdstanpy - INFO - Chain [1] start processing\n",
      "15:55:59 - cmdstanpy - INFO - Chain [1] done processing\n",
      "15:56:00 - cmdstanpy - INFO - Chain [1] start processing\n",
      "15:56:00 - cmdstanpy - INFO - Chain [1] done processing\n"
     ]
    },
    {
     "name": "stdout",
     "output_type": "stream",
     "text": [
      "Modeling for: Hoan Kiem Market_Baby Food\n",
      "Modeling for: Hoan Kiem Market_Bread\n",
      "Modeling for: Hoan Kiem Market_Cheese\n"
     ]
    },
    {
     "name": "stderr",
     "output_type": "stream",
     "text": [
      "15:56:00 - cmdstanpy - INFO - Chain [1] start processing\n",
      "15:56:00 - cmdstanpy - INFO - Chain [1] done processing\n",
      "15:56:00 - cmdstanpy - INFO - Chain [1] start processing\n",
      "15:56:00 - cmdstanpy - INFO - Chain [1] done processing\n",
      "15:56:00 - cmdstanpy - INFO - Chain [1] start processing\n",
      "15:56:00 - cmdstanpy - INFO - Chain [1] done processing\n"
     ]
    },
    {
     "name": "stdout",
     "output_type": "stream",
     "text": [
      "Modeling for: Hoan Kiem Market_Chips\n",
      "Modeling for: Hoan Kiem Market_Cold & Flu Medicine\n"
     ]
    },
    {
     "name": "stderr",
     "output_type": "stream",
     "text": [
      "15:56:00 - cmdstanpy - INFO - Chain [1] start processing\n",
      "15:56:00 - cmdstanpy - INFO - Chain [1] done processing\n",
      "15:56:00 - cmdstanpy - INFO - Chain [1] start processing\n",
      "15:56:00 - cmdstanpy - INFO - Chain [1] done processing\n"
     ]
    },
    {
     "name": "stdout",
     "output_type": "stream",
     "text": [
      "Modeling for: Hoan Kiem Market_Cookies\n",
      "Modeling for: Hoan Kiem Market_Cooking Oil\n"
     ]
    },
    {
     "name": "stderr",
     "output_type": "stream",
     "text": [
      "15:56:00 - cmdstanpy - INFO - Chain [1] start processing\n",
      "15:56:00 - cmdstanpy - INFO - Chain [1] done processing\n",
      "15:56:00 - cmdstanpy - INFO - Chain [1] start processing\n",
      "15:56:00 - cmdstanpy - INFO - Chain [1] done processing\n"
     ]
    },
    {
     "name": "stdout",
     "output_type": "stream",
     "text": [
      "Modeling for: Hoan Kiem Market_Diapers\n",
      "Modeling for: Hoan Kiem Market_Dishwashing Liquid\n"
     ]
    },
    {
     "name": "stderr",
     "output_type": "stream",
     "text": [
      "15:56:00 - cmdstanpy - INFO - Chain [1] start processing\n",
      "15:56:00 - cmdstanpy - INFO - Chain [1] done processing\n",
      "15:56:01 - cmdstanpy - INFO - Chain [1] start processing\n",
      "15:56:01 - cmdstanpy - INFO - Chain [1] done processing\n"
     ]
    },
    {
     "name": "stdout",
     "output_type": "stream",
     "text": [
      "Modeling for: Hoan Kiem Market_First Aid Kit\n",
      "Modeling for: Hoan Kiem Market_Flour\n"
     ]
    },
    {
     "name": "stderr",
     "output_type": "stream",
     "text": [
      "15:56:01 - cmdstanpy - INFO - Chain [1] start processing\n",
      "15:56:01 - cmdstanpy - INFO - Chain [1] done processing\n",
      "15:56:01 - cmdstanpy - INFO - Chain [1] start processing\n",
      "15:56:01 - cmdstanpy - INFO - Chain [1] done processing\n"
     ]
    },
    {
     "name": "stdout",
     "output_type": "stream",
     "text": [
      "Modeling for: Hoan Kiem Market_Frozen Vegetables\n",
      "Modeling for: Hoan Kiem Market_Ice Cream\n"
     ]
    },
    {
     "name": "stderr",
     "output_type": "stream",
     "text": [
      "15:56:01 - cmdstanpy - INFO - Chain [1] start processing\n",
      "15:56:01 - cmdstanpy - INFO - Chain [1] done processing\n",
      "15:56:01 - cmdstanpy - INFO - Chain [1] start processing\n",
      "15:56:01 - cmdstanpy - INFO - Chain [1] done processing\n"
     ]
    },
    {
     "name": "stdout",
     "output_type": "stream",
     "text": [
      "Modeling for: Hoan Kiem Market_Juice\n",
      "Modeling for: Hoan Kiem Market_Laundry Detergent\n"
     ]
    },
    {
     "name": "stderr",
     "output_type": "stream",
     "text": [
      "15:56:01 - cmdstanpy - INFO - Chain [1] start processing\n",
      "15:56:01 - cmdstanpy - INFO - Chain [1] done processing\n",
      "15:56:01 - cmdstanpy - INFO - Chain [1] start processing\n",
      "15:56:01 - cmdstanpy - INFO - Chain [1] done processing\n"
     ]
    },
    {
     "name": "stdout",
     "output_type": "stream",
     "text": [
      "Modeling for: Hoan Kiem Market_Milk\n",
      "Modeling for: Hoan Kiem Market_Noodles\n"
     ]
    },
    {
     "name": "stderr",
     "output_type": "stream",
     "text": [
      "15:56:01 - cmdstanpy - INFO - Chain [1] start processing\n",
      "15:56:01 - cmdstanpy - INFO - Chain [1] done processing\n",
      "15:56:01 - cmdstanpy - INFO - Chain [1] start processing\n"
     ]
    },
    {
     "name": "stdout",
     "output_type": "stream",
     "text": [
      "Modeling for: Hoan Kiem Market_Pain Relievers\n",
      "Modeling for: Hoan Kiem Market_Paper Towels\n"
     ]
    },
    {
     "name": "stderr",
     "output_type": "stream",
     "text": [
      "15:56:01 - cmdstanpy - INFO - Chain [1] done processing\n",
      "15:56:02 - cmdstanpy - INFO - Chain [1] start processing\n",
      "15:56:02 - cmdstanpy - INFO - Chain [1] done processing\n",
      "15:56:02 - cmdstanpy - INFO - Chain [1] start processing\n",
      "15:56:02 - cmdstanpy - INFO - Chain [1] done processing\n"
     ]
    },
    {
     "name": "stdout",
     "output_type": "stream",
     "text": [
      "Modeling for: Hoan Kiem Market_Rice\n",
      "Modeling for: Hoan Kiem Market_Shampoo\n"
     ]
    },
    {
     "name": "stderr",
     "output_type": "stream",
     "text": [
      "15:56:02 - cmdstanpy - INFO - Chain [1] start processing\n",
      "15:56:02 - cmdstanpy - INFO - Chain [1] done processing\n",
      "15:56:02 - cmdstanpy - INFO - Chain [1] start processing\n",
      "15:56:02 - cmdstanpy - INFO - Chain [1] done processing\n"
     ]
    },
    {
     "name": "stdout",
     "output_type": "stream",
     "text": [
      "Modeling for: Hoan Kiem Market_Soap\n",
      "Modeling for: Hoan Kiem Market_Sugar\n"
     ]
    },
    {
     "name": "stderr",
     "output_type": "stream",
     "text": [
      "15:56:02 - cmdstanpy - INFO - Chain [1] start processing\n",
      "15:56:02 - cmdstanpy - INFO - Chain [1] done processing\n",
      "15:56:02 - cmdstanpy - INFO - Chain [1] start processing\n",
      "15:56:02 - cmdstanpy - INFO - Chain [1] done processing\n"
     ]
    },
    {
     "name": "stdout",
     "output_type": "stream",
     "text": [
      "Modeling for: Hoan Kiem Market_Tea\n",
      "Modeling for: Hoan Kiem Market_Toilet Paper\n"
     ]
    },
    {
     "name": "stderr",
     "output_type": "stream",
     "text": [
      "15:56:02 - cmdstanpy - INFO - Chain [1] start processing\n",
      "15:56:02 - cmdstanpy - INFO - Chain [1] done processing\n"
     ]
    },
    {
     "name": "stdout",
     "output_type": "stream",
     "text": [
      "Modeling for: Hoan Kiem Market_Toothpaste\n",
      "Modeling for: Hoan Kiem Market_Trash Bags\n"
     ]
    },
    {
     "name": "stderr",
     "output_type": "stream",
     "text": [
      "15:56:02 - cmdstanpy - INFO - Chain [1] start processing\n",
      "15:56:02 - cmdstanpy - INFO - Chain [1] done processing\n",
      "15:56:03 - cmdstanpy - INFO - Chain [1] start processing\n",
      "15:56:03 - cmdstanpy - INFO - Chain [1] done processing\n",
      "15:56:03 - cmdstanpy - INFO - Chain [1] start processing\n",
      "15:56:03 - cmdstanpy - INFO - Chain [1] done processing\n"
     ]
    },
    {
     "name": "stdout",
     "output_type": "stream",
     "text": [
      "Modeling for: Hoan Kiem Market_Water\n",
      "Modeling for: Hoan Kiem Market_Yogurt\n"
     ]
    },
    {
     "name": "stderr",
     "output_type": "stream",
     "text": [
      "15:56:03 - cmdstanpy - INFO - Chain [1] start processing\n",
      "15:56:03 - cmdstanpy - INFO - Chain [1] done processing\n",
      "15:56:03 - cmdstanpy - INFO - Chain [1] start processing\n",
      "15:56:03 - cmdstanpy - INFO - Chain [1] done processing\n"
     ]
    },
    {
     "name": "stdout",
     "output_type": "stream",
     "text": [
      "Modeling for: Long Bien Shop_All-Purpose Cleaner\n",
      "Modeling for: Long Bien Shop_Bread\n"
     ]
    },
    {
     "name": "stderr",
     "output_type": "stream",
     "text": [
      "15:56:03 - cmdstanpy - INFO - Chain [1] start processing\n",
      "15:56:03 - cmdstanpy - INFO - Chain [1] done processing\n",
      "15:56:03 - cmdstanpy - INFO - Chain [1] start processing\n",
      "15:56:03 - cmdstanpy - INFO - Chain [1] done processing\n"
     ]
    },
    {
     "name": "stdout",
     "output_type": "stream",
     "text": [
      "Modeling for: Long Bien Shop_Cheese\n",
      "Modeling for: Long Bien Shop_Chips\n",
      "Modeling for: Long Bien Shop_Chocolate\n"
     ]
    },
    {
     "name": "stderr",
     "output_type": "stream",
     "text": [
      "15:56:03 - cmdstanpy - INFO - Chain [1] start processing\n",
      "15:56:03 - cmdstanpy - INFO - Chain [1] done processing\n",
      "15:56:03 - cmdstanpy - INFO - Chain [1] start processing\n",
      "15:56:03 - cmdstanpy - INFO - Chain [1] done processing\n",
      "15:56:03 - cmdstanpy - INFO - Chain [1] start processing\n",
      "15:56:03 - cmdstanpy - INFO - Chain [1] done processing\n"
     ]
    },
    {
     "name": "stdout",
     "output_type": "stream",
     "text": [
      "Modeling for: Long Bien Shop_Cold & Flu Medicine\n",
      "Modeling for: Long Bien Shop_Cooking Oil\n"
     ]
    },
    {
     "name": "stderr",
     "output_type": "stream",
     "text": [
      "15:56:03 - cmdstanpy - INFO - Chain [1] start processing\n",
      "15:56:04 - cmdstanpy - INFO - Chain [1] done processing\n",
      "15:56:04 - cmdstanpy - INFO - Chain [1] start processing\n",
      "15:56:04 - cmdstanpy - INFO - Chain [1] done processing\n"
     ]
    },
    {
     "name": "stdout",
     "output_type": "stream",
     "text": [
      "Modeling for: Long Bien Shop_Diapers\n",
      "Modeling for: Long Bien Shop_Dishwashing Liquid\n"
     ]
    },
    {
     "name": "stderr",
     "output_type": "stream",
     "text": [
      "15:56:04 - cmdstanpy - INFO - Chain [1] start processing\n",
      "15:56:04 - cmdstanpy - INFO - Chain [1] done processing\n",
      "15:56:04 - cmdstanpy - INFO - Chain [1] start processing\n",
      "15:56:04 - cmdstanpy - INFO - Chain [1] done processing\n"
     ]
    },
    {
     "name": "stdout",
     "output_type": "stream",
     "text": [
      "Modeling for: Long Bien Shop_Flour\n",
      "Modeling for: Long Bien Shop_Frozen Vegetables\n"
     ]
    },
    {
     "name": "stderr",
     "output_type": "stream",
     "text": [
      "15:56:04 - cmdstanpy - INFO - Chain [1] start processing\n",
      "15:56:04 - cmdstanpy - INFO - Chain [1] done processing\n",
      "15:56:04 - cmdstanpy - INFO - Chain [1] start processing\n",
      "15:56:04 - cmdstanpy - INFO - Chain [1] done processing\n"
     ]
    },
    {
     "name": "stdout",
     "output_type": "stream",
     "text": [
      "Modeling for: Long Bien Shop_Ice Cream\n",
      "Modeling for: Long Bien Shop_Juice\n",
      "Modeling for: Long Bien Shop_Milk\n"
     ]
    },
    {
     "name": "stderr",
     "output_type": "stream",
     "text": [
      "15:56:04 - cmdstanpy - INFO - Chain [1] start processing\n",
      "15:56:04 - cmdstanpy - INFO - Chain [1] done processing\n",
      "15:56:04 - cmdstanpy - INFO - Chain [1] start processing\n",
      "15:56:04 - cmdstanpy - INFO - Chain [1] done processing\n",
      "15:56:04 - cmdstanpy - INFO - Chain [1] start processing\n",
      "15:56:04 - cmdstanpy - INFO - Chain [1] done processing\n"
     ]
    },
    {
     "name": "stdout",
     "output_type": "stream",
     "text": [
      "Modeling for: Long Bien Shop_Noodles\n",
      "Modeling for: Long Bien Shop_Pain Relievers\n"
     ]
    },
    {
     "name": "stderr",
     "output_type": "stream",
     "text": [
      "15:56:04 - cmdstanpy - INFO - Chain [1] start processing\n",
      "15:56:05 - cmdstanpy - INFO - Chain [1] done processing\n",
      "15:56:05 - cmdstanpy - INFO - Chain [1] start processing\n",
      "15:56:05 - cmdstanpy - INFO - Chain [1] done processing\n"
     ]
    },
    {
     "name": "stdout",
     "output_type": "stream",
     "text": [
      "Modeling for: Long Bien Shop_Paper Towels\n",
      "Modeling for: Long Bien Shop_Rice\n",
      "Modeling for: Long Bien Shop_Shampoo\n"
     ]
    },
    {
     "name": "stderr",
     "output_type": "stream",
     "text": [
      "15:56:05 - cmdstanpy - INFO - Chain [1] start processing\n",
      "15:56:05 - cmdstanpy - INFO - Chain [1] done processing\n",
      "15:56:05 - cmdstanpy - INFO - Chain [1] start processing\n",
      "15:56:05 - cmdstanpy - INFO - Chain [1] done processing\n",
      "15:56:05 - cmdstanpy - INFO - Chain [1] start processing\n",
      "15:56:05 - cmdstanpy - INFO - Chain [1] done processing\n"
     ]
    },
    {
     "name": "stdout",
     "output_type": "stream",
     "text": [
      "Modeling for: Long Bien Shop_Soap\n",
      "Modeling for: Long Bien Shop_Soda\n"
     ]
    },
    {
     "name": "stderr",
     "output_type": "stream",
     "text": [
      "15:56:05 - cmdstanpy - INFO - Chain [1] start processing\n",
      "15:56:05 - cmdstanpy - INFO - Chain [1] done processing\n",
      "15:56:05 - cmdstanpy - INFO - Chain [1] start processing\n",
      "15:56:05 - cmdstanpy - INFO - Chain [1] done processing\n"
     ]
    },
    {
     "name": "stdout",
     "output_type": "stream",
     "text": [
      "Modeling for: Long Bien Shop_Tea\n",
      "Modeling for: Long Bien Shop_Toilet Paper\n"
     ]
    },
    {
     "name": "stderr",
     "output_type": "stream",
     "text": [
      "15:56:05 - cmdstanpy - INFO - Chain [1] start processing\n",
      "15:56:05 - cmdstanpy - INFO - Chain [1] done processing\n",
      "15:56:05 - cmdstanpy - INFO - Chain [1] start processing\n",
      "15:56:05 - cmdstanpy - INFO - Chain [1] done processing\n"
     ]
    },
    {
     "name": "stdout",
     "output_type": "stream",
     "text": [
      "Modeling for: Long Bien Shop_Toothpaste\n",
      "Modeling for: Long Bien Shop_Trash Bags\n"
     ]
    },
    {
     "name": "stderr",
     "output_type": "stream",
     "text": [
      "15:56:05 - cmdstanpy - INFO - Chain [1] start processing\n",
      "15:56:06 - cmdstanpy - INFO - Chain [1] done processing\n",
      "15:56:06 - cmdstanpy - INFO - Chain [1] start processing\n"
     ]
    },
    {
     "name": "stdout",
     "output_type": "stream",
     "text": [
      "Modeling for: Long Bien Shop_Vitamins\n",
      "Modeling for: Long Bien Shop_Yogurt\n"
     ]
    },
    {
     "name": "stderr",
     "output_type": "stream",
     "text": [
      "15:56:06 - cmdstanpy - INFO - Chain [1] done processing\n",
      "15:56:06 - cmdstanpy - INFO - Chain [1] start processing\n",
      "15:56:06 - cmdstanpy - INFO - Chain [1] done processing\n",
      "15:56:06 - cmdstanpy - INFO - Chain [1] start processing\n",
      "15:56:06 - cmdstanpy - INFO - Chain [1] done processing\n"
     ]
    },
    {
     "name": "stdout",
     "output_type": "stream",
     "text": [
      "Modeling for: Phu Nhuan Shop_Baby Wipes\n",
      "Modeling for: Phu Nhuan Shop_Cheese\n"
     ]
    },
    {
     "name": "stderr",
     "output_type": "stream",
     "text": [
      "15:56:06 - cmdstanpy - INFO - Chain [1] start processing\n",
      "15:56:06 - cmdstanpy - INFO - Chain [1] done processing\n",
      "15:56:06 - cmdstanpy - INFO - Chain [1] start processing\n",
      "15:56:06 - cmdstanpy - INFO - Chain [1] done processing\n"
     ]
    },
    {
     "name": "stdout",
     "output_type": "stream",
     "text": [
      "Modeling for: Phu Nhuan Shop_Chocolate\n",
      "Modeling for: Phu Nhuan Shop_Coffee\n"
     ]
    },
    {
     "name": "stderr",
     "output_type": "stream",
     "text": [
      "15:56:06 - cmdstanpy - INFO - Chain [1] start processing\n",
      "15:56:06 - cmdstanpy - INFO - Chain [1] done processing\n",
      "15:56:06 - cmdstanpy - INFO - Chain [1] start processing\n",
      "15:56:06 - cmdstanpy - INFO - Chain [1] done processing\n"
     ]
    },
    {
     "name": "stdout",
     "output_type": "stream",
     "text": [
      "Modeling for: Phu Nhuan Shop_Cold & Flu Medicine\n",
      "Modeling for: Phu Nhuan Shop_Cookies\n"
     ]
    },
    {
     "name": "stderr",
     "output_type": "stream",
     "text": [
      "15:56:06 - cmdstanpy - INFO - Chain [1] start processing\n",
      "15:56:06 - cmdstanpy - INFO - Chain [1] done processing\n",
      "15:56:06 - cmdstanpy - INFO - Chain [1] start processing\n",
      "15:56:07 - cmdstanpy - INFO - Chain [1] done processing\n"
     ]
    },
    {
     "name": "stdout",
     "output_type": "stream",
     "text": [
      "Modeling for: Phu Nhuan Shop_Cooking Oil\n",
      "Modeling for: Phu Nhuan Shop_Dishwashing Liquid\n"
     ]
    },
    {
     "name": "stderr",
     "output_type": "stream",
     "text": [
      "15:56:07 - cmdstanpy - INFO - Chain [1] start processing\n",
      "15:56:07 - cmdstanpy - INFO - Chain [1] done processing\n",
      "15:56:07 - cmdstanpy - INFO - Chain [1] start processing\n",
      "15:56:07 - cmdstanpy - INFO - Chain [1] done processing\n"
     ]
    },
    {
     "name": "stdout",
     "output_type": "stream",
     "text": [
      "Modeling for: Phu Nhuan Shop_Frozen Vegetables\n",
      "Modeling for: Phu Nhuan Shop_Ice Cream\n"
     ]
    },
    {
     "name": "stderr",
     "output_type": "stream",
     "text": [
      "15:56:07 - cmdstanpy - INFO - Chain [1] start processing\n",
      "15:56:07 - cmdstanpy - INFO - Chain [1] done processing\n",
      "15:56:07 - cmdstanpy - INFO - Chain [1] start processing\n",
      "15:56:07 - cmdstanpy - INFO - Chain [1] done processing\n"
     ]
    },
    {
     "name": "stdout",
     "output_type": "stream",
     "text": [
      "Modeling for: Phu Nhuan Shop_Juice\n",
      "Modeling for: Phu Nhuan Shop_Laundry Detergent\n"
     ]
    },
    {
     "name": "stderr",
     "output_type": "stream",
     "text": [
      "15:56:07 - cmdstanpy - INFO - Chain [1] start processing\n",
      "15:56:07 - cmdstanpy - INFO - Chain [1] done processing\n",
      "15:56:07 - cmdstanpy - INFO - Chain [1] start processing\n",
      "15:56:07 - cmdstanpy - INFO - Chain [1] done processing\n"
     ]
    },
    {
     "name": "stdout",
     "output_type": "stream",
     "text": [
      "Modeling for: Phu Nhuan Shop_Milk\n",
      "Modeling for: Phu Nhuan Shop_Noodles\n"
     ]
    },
    {
     "name": "stderr",
     "output_type": "stream",
     "text": [
      "15:56:07 - cmdstanpy - INFO - Chain [1] start processing\n",
      "15:56:07 - cmdstanpy - INFO - Chain [1] done processing\n",
      "15:56:07 - cmdstanpy - INFO - Chain [1] start processing\n",
      "15:56:07 - cmdstanpy - INFO - Chain [1] done processing\n"
     ]
    },
    {
     "name": "stdout",
     "output_type": "stream",
     "text": [
      "Modeling for: Phu Nhuan Shop_Pain Relievers\n",
      "Modeling for: Phu Nhuan Shop_Rice\n"
     ]
    },
    {
     "name": "stderr",
     "output_type": "stream",
     "text": [
      "15:56:07 - cmdstanpy - INFO - Chain [1] start processing\n",
      "15:56:07 - cmdstanpy - INFO - Chain [1] done processing\n",
      "15:56:08 - cmdstanpy - INFO - Chain [1] start processing\n",
      "15:56:08 - cmdstanpy - INFO - Chain [1] done processing\n"
     ]
    },
    {
     "name": "stdout",
     "output_type": "stream",
     "text": [
      "Modeling for: Phu Nhuan Shop_Shampoo\n",
      "Modeling for: Phu Nhuan Shop_Soap\n"
     ]
    },
    {
     "name": "stderr",
     "output_type": "stream",
     "text": [
      "15:56:08 - cmdstanpy - INFO - Chain [1] start processing\n",
      "15:56:08 - cmdstanpy - INFO - Chain [1] done processing\n",
      "15:56:08 - cmdstanpy - INFO - Chain [1] start processing\n",
      "15:56:08 - cmdstanpy - INFO - Chain [1] done processing\n"
     ]
    },
    {
     "name": "stdout",
     "output_type": "stream",
     "text": [
      "Modeling for: Phu Nhuan Shop_Soda\n",
      "Modeling for: Phu Nhuan Shop_Sugar\n",
      "Modeling for: Phu Nhuan Shop_Tea\n"
     ]
    },
    {
     "name": "stderr",
     "output_type": "stream",
     "text": [
      "15:56:08 - cmdstanpy - INFO - Chain [1] start processing\n",
      "15:56:08 - cmdstanpy - INFO - Chain [1] done processing\n",
      "15:56:08 - cmdstanpy - INFO - Chain [1] start processing\n",
      "15:56:08 - cmdstanpy - INFO - Chain [1] done processing\n",
      "15:56:08 - cmdstanpy - INFO - Chain [1] start processing\n",
      "15:56:08 - cmdstanpy - INFO - Chain [1] done processing\n"
     ]
    },
    {
     "name": "stdout",
     "output_type": "stream",
     "text": [
      "Modeling for: Phu Nhuan Shop_Toothpaste\n",
      "Modeling for: Phu Nhuan Shop_Trash Bags\n"
     ]
    },
    {
     "name": "stderr",
     "output_type": "stream",
     "text": [
      "15:56:08 - cmdstanpy - INFO - Chain [1] start processing\n",
      "15:56:08 - cmdstanpy - INFO - Chain [1] done processing\n",
      "15:56:08 - cmdstanpy - INFO - Chain [1] start processing\n",
      "15:56:08 - cmdstanpy - INFO - Chain [1] done processing\n"
     ]
    },
    {
     "name": "stdout",
     "output_type": "stream",
     "text": [
      "Modeling for: Phu Nhuan Shop_Vitamins\n",
      "Modeling for: Phu Nhuan Shop_Water\n",
      "Modeling for: Phu Nhuan Shop_Yogurt\n"
     ]
    },
    {
     "name": "stderr",
     "output_type": "stream",
     "text": [
      "15:56:08 - cmdstanpy - INFO - Chain [1] start processing\n",
      "15:56:08 - cmdstanpy - INFO - Chain [1] done processing\n",
      "15:56:09 - cmdstanpy - INFO - Chain [1] start processing\n",
      "15:56:09 - cmdstanpy - INFO - Chain [1] done processing\n",
      "15:56:09 - cmdstanpy - INFO - Chain [1] start processing\n",
      "15:56:09 - cmdstanpy - INFO - Chain [1] done processing\n"
     ]
    },
    {
     "name": "stdout",
     "output_type": "stream",
     "text": [
      "Modeling for: Saigon Supermarket_Baby Food\n",
      "Modeling for: Saigon Supermarket_Baby Wipes\n"
     ]
    },
    {
     "name": "stderr",
     "output_type": "stream",
     "text": [
      "15:56:09 - cmdstanpy - INFO - Chain [1] start processing\n",
      "15:56:09 - cmdstanpy - INFO - Chain [1] done processing\n"
     ]
    },
    {
     "name": "stdout",
     "output_type": "stream",
     "text": [
      "Modeling for: Saigon Supermarket_Bread\n",
      "Modeling for: Saigon Supermarket_Cheese\n"
     ]
    },
    {
     "name": "stderr",
     "output_type": "stream",
     "text": [
      "15:56:09 - cmdstanpy - INFO - Chain [1] start processing\n",
      "15:56:09 - cmdstanpy - INFO - Chain [1] done processing\n",
      "15:56:09 - cmdstanpy - INFO - Chain [1] start processing\n",
      "15:56:09 - cmdstanpy - INFO - Chain [1] done processing\n",
      "15:56:09 - cmdstanpy - INFO - Chain [1] start processing\n",
      "15:56:09 - cmdstanpy - INFO - Chain [1] done processing\n"
     ]
    },
    {
     "name": "stdout",
     "output_type": "stream",
     "text": [
      "Modeling for: Saigon Supermarket_Cold & Flu Medicine\n",
      "Modeling for: Saigon Supermarket_Cookies\n",
      "Modeling for: Saigon Supermarket_Diapers\n"
     ]
    },
    {
     "name": "stderr",
     "output_type": "stream",
     "text": [
      "15:56:09 - cmdstanpy - INFO - Chain [1] start processing\n",
      "15:56:09 - cmdstanpy - INFO - Chain [1] done processing\n",
      "15:56:09 - cmdstanpy - INFO - Chain [1] start processing\n",
      "15:56:09 - cmdstanpy - INFO - Chain [1] done processing\n",
      "15:56:09 - cmdstanpy - INFO - Chain [1] start processing\n",
      "15:56:10 - cmdstanpy - INFO - Chain [1] done processing\n"
     ]
    },
    {
     "name": "stdout",
     "output_type": "stream",
     "text": [
      "Modeling for: Saigon Supermarket_Dishwashing Liquid\n",
      "Modeling for: Saigon Supermarket_First Aid Kit\n",
      "Modeling for: Saigon Supermarket_Flour\n"
     ]
    },
    {
     "name": "stderr",
     "output_type": "stream",
     "text": [
      "15:56:10 - cmdstanpy - INFO - Chain [1] start processing\n",
      "15:56:10 - cmdstanpy - INFO - Chain [1] done processing\n",
      "15:56:10 - cmdstanpy - INFO - Chain [1] start processing\n",
      "15:56:10 - cmdstanpy - INFO - Chain [1] done processing\n",
      "15:56:10 - cmdstanpy - INFO - Chain [1] start processing\n",
      "15:56:10 - cmdstanpy - INFO - Chain [1] done processing\n"
     ]
    },
    {
     "name": "stdout",
     "output_type": "stream",
     "text": [
      "Modeling for: Saigon Supermarket_Ice Cream\n",
      "Modeling for: Saigon Supermarket_Juice\n",
      "Modeling for: Saigon Supermarket_Laundry Detergent\n"
     ]
    },
    {
     "name": "stderr",
     "output_type": "stream",
     "text": [
      "15:56:10 - cmdstanpy - INFO - Chain [1] start processing\n",
      "15:56:10 - cmdstanpy - INFO - Chain [1] done processing\n",
      "15:56:10 - cmdstanpy - INFO - Chain [1] start processing\n",
      "15:56:10 - cmdstanpy - INFO - Chain [1] done processing\n",
      "15:56:10 - cmdstanpy - INFO - Chain [1] start processing\n",
      "15:56:10 - cmdstanpy - INFO - Chain [1] done processing\n"
     ]
    },
    {
     "name": "stdout",
     "output_type": "stream",
     "text": [
      "Modeling for: Saigon Supermarket_Milk\n",
      "Modeling for: Saigon Supermarket_Noodles\n"
     ]
    },
    {
     "name": "stderr",
     "output_type": "stream",
     "text": [
      "15:56:10 - cmdstanpy - INFO - Chain [1] start processing\n",
      "15:56:10 - cmdstanpy - INFO - Chain [1] done processing\n",
      "15:56:10 - cmdstanpy - INFO - Chain [1] start processing\n"
     ]
    },
    {
     "name": "stdout",
     "output_type": "stream",
     "text": [
      "Modeling for: Saigon Supermarket_Paper Towels\n",
      "Modeling for: Saigon Supermarket_Rice\n"
     ]
    },
    {
     "name": "stderr",
     "output_type": "stream",
     "text": [
      "15:56:10 - cmdstanpy - INFO - Chain [1] done processing\n",
      "15:56:10 - cmdstanpy - INFO - Chain [1] start processing\n",
      "15:56:10 - cmdstanpy - INFO - Chain [1] done processing\n",
      "15:56:11 - cmdstanpy - INFO - Chain [1] start processing\n",
      "15:56:11 - cmdstanpy - INFO - Chain [1] done processing\n"
     ]
    },
    {
     "name": "stdout",
     "output_type": "stream",
     "text": [
      "Modeling for: Saigon Supermarket_Shampoo\n",
      "Modeling for: Saigon Supermarket_Soap\n"
     ]
    },
    {
     "name": "stderr",
     "output_type": "stream",
     "text": [
      "15:56:11 - cmdstanpy - INFO - Chain [1] start processing\n",
      "15:56:11 - cmdstanpy - INFO - Chain [1] done processing\n",
      "15:56:11 - cmdstanpy - INFO - Chain [1] start processing\n",
      "15:56:11 - cmdstanpy - INFO - Chain [1] done processing\n"
     ]
    },
    {
     "name": "stdout",
     "output_type": "stream",
     "text": [
      "Modeling for: Saigon Supermarket_Soda\n",
      "Modeling for: Saigon Supermarket_Sugar\n"
     ]
    },
    {
     "name": "stderr",
     "output_type": "stream",
     "text": [
      "15:56:11 - cmdstanpy - INFO - Chain [1] start processing\n",
      "15:56:11 - cmdstanpy - INFO - Chain [1] done processing\n",
      "15:56:11 - cmdstanpy - INFO - Chain [1] start processing\n",
      "15:56:11 - cmdstanpy - INFO - Chain [1] done processing\n"
     ]
    },
    {
     "name": "stdout",
     "output_type": "stream",
     "text": [
      "Modeling for: Saigon Supermarket_Tea\n",
      "Modeling for: Saigon Supermarket_Toilet Paper\n"
     ]
    },
    {
     "name": "stderr",
     "output_type": "stream",
     "text": [
      "15:56:11 - cmdstanpy - INFO - Chain [1] start processing\n",
      "15:56:11 - cmdstanpy - INFO - Chain [1] done processing\n",
      "15:56:11 - cmdstanpy - INFO - Chain [1] start processing\n"
     ]
    },
    {
     "name": "stdout",
     "output_type": "stream",
     "text": [
      "Modeling for: Saigon Supermarket_Toothpaste\n",
      "Modeling for: Saigon Supermarket_Vitamins\n"
     ]
    },
    {
     "name": "stderr",
     "output_type": "stream",
     "text": [
      "15:56:11 - cmdstanpy - INFO - Chain [1] done processing\n",
      "15:56:11 - cmdstanpy - INFO - Chain [1] start processing\n",
      "15:56:11 - cmdstanpy - INFO - Chain [1] done processing\n",
      "15:56:11 - cmdstanpy - INFO - Chain [1] start processing\n",
      "15:56:12 - cmdstanpy - INFO - Chain [1] done processing\n"
     ]
    },
    {
     "name": "stdout",
     "output_type": "stream",
     "text": [
      "Modeling for: Saigon Supermarket_Water\n",
      "Modeling for: Saigon Supermarket_Yogurt\n"
     ]
    },
    {
     "name": "stderr",
     "output_type": "stream",
     "text": [
      "15:56:12 - cmdstanpy - INFO - Chain [1] start processing\n",
      "15:56:12 - cmdstanpy - INFO - Chain [1] done processing\n",
      "15:56:12 - cmdstanpy - INFO - Chain [1] start processing\n",
      "15:56:12 - cmdstanpy - INFO - Chain [1] done processing\n"
     ]
    },
    {
     "name": "stdout",
     "output_type": "stream",
     "text": [
      "Modeling for: Tay Ho Store_Baby Food\n",
      "Modeling for: Tay Ho Store_Baby Wipes\n"
     ]
    },
    {
     "name": "stderr",
     "output_type": "stream",
     "text": [
      "15:56:12 - cmdstanpy - INFO - Chain [1] start processing\n",
      "15:56:12 - cmdstanpy - INFO - Chain [1] done processing\n",
      "15:56:12 - cmdstanpy - INFO - Chain [1] start processing\n",
      "15:56:12 - cmdstanpy - INFO - Chain [1] done processing\n"
     ]
    },
    {
     "name": "stdout",
     "output_type": "stream",
     "text": [
      "Modeling for: Tay Ho Store_Bread\n",
      "Modeling for: Tay Ho Store_Cheese\n"
     ]
    },
    {
     "name": "stderr",
     "output_type": "stream",
     "text": [
      "15:56:12 - cmdstanpy - INFO - Chain [1] start processing\n",
      "15:56:12 - cmdstanpy - INFO - Chain [1] done processing\n",
      "15:56:12 - cmdstanpy - INFO - Chain [1] start processing\n",
      "15:56:12 - cmdstanpy - INFO - Chain [1] done processing\n"
     ]
    },
    {
     "name": "stdout",
     "output_type": "stream",
     "text": [
      "Modeling for: Tay Ho Store_Chips\n",
      "Modeling for: Tay Ho Store_Coffee\n",
      "Modeling for: Tay Ho Store_Cold & Flu Medicine\n"
     ]
    },
    {
     "name": "stderr",
     "output_type": "stream",
     "text": [
      "15:56:12 - cmdstanpy - INFO - Chain [1] start processing\n",
      "15:56:12 - cmdstanpy - INFO - Chain [1] done processing\n",
      "15:56:12 - cmdstanpy - INFO - Chain [1] start processing\n",
      "15:56:12 - cmdstanpy - INFO - Chain [1] done processing\n",
      "15:56:12 - cmdstanpy - INFO - Chain [1] start processing\n",
      "15:56:12 - cmdstanpy - INFO - Chain [1] done processing\n"
     ]
    },
    {
     "name": "stdout",
     "output_type": "stream",
     "text": [
      "Modeling for: Tay Ho Store_Cookies\n",
      "Modeling for: Tay Ho Store_Cooking Oil\n"
     ]
    },
    {
     "name": "stderr",
     "output_type": "stream",
     "text": [
      "15:56:13 - cmdstanpy - INFO - Chain [1] start processing\n",
      "15:56:13 - cmdstanpy - INFO - Chain [1] done processing\n",
      "15:56:13 - cmdstanpy - INFO - Chain [1] start processing\n",
      "15:56:13 - cmdstanpy - INFO - Chain [1] done processing\n"
     ]
    },
    {
     "name": "stdout",
     "output_type": "stream",
     "text": [
      "Modeling for: Tay Ho Store_Diapers\n",
      "Modeling for: Tay Ho Store_Dishwashing Liquid\n"
     ]
    },
    {
     "name": "stderr",
     "output_type": "stream",
     "text": [
      "15:56:13 - cmdstanpy - INFO - Chain [1] start processing\n",
      "15:56:13 - cmdstanpy - INFO - Chain [1] done processing\n",
      "15:56:13 - cmdstanpy - INFO - Chain [1] start processing\n",
      "15:56:13 - cmdstanpy - INFO - Chain [1] done processing\n"
     ]
    },
    {
     "name": "stdout",
     "output_type": "stream",
     "text": [
      "Modeling for: Tay Ho Store_First Aid Kit\n",
      "Modeling for: Tay Ho Store_Flour\n"
     ]
    },
    {
     "name": "stderr",
     "output_type": "stream",
     "text": [
      "15:56:13 - cmdstanpy - INFO - Chain [1] start processing\n",
      "15:56:13 - cmdstanpy - INFO - Chain [1] done processing\n",
      "15:56:13 - cmdstanpy - INFO - Chain [1] start processing\n",
      "15:56:13 - cmdstanpy - INFO - Chain [1] done processing\n"
     ]
    },
    {
     "name": "stdout",
     "output_type": "stream",
     "text": [
      "Modeling for: Tay Ho Store_Ice Cream\n",
      "Modeling for: Tay Ho Store_Laundry Detergent\n"
     ]
    },
    {
     "name": "stderr",
     "output_type": "stream",
     "text": [
      "15:56:13 - cmdstanpy - INFO - Chain [1] start processing\n",
      "15:56:13 - cmdstanpy - INFO - Chain [1] done processing\n",
      "15:56:13 - cmdstanpy - INFO - Chain [1] start processing\n",
      "15:56:13 - cmdstanpy - INFO - Chain [1] done processing\n"
     ]
    },
    {
     "name": "stdout",
     "output_type": "stream",
     "text": [
      "Modeling for: Tay Ho Store_Milk\n",
      "Modeling for: Tay Ho Store_Noodles\n",
      "Modeling for: Tay Ho Store_Pain Relievers\n"
     ]
    },
    {
     "name": "stderr",
     "output_type": "stream",
     "text": [
      "15:56:13 - cmdstanpy - INFO - Chain [1] start processing\n",
      "15:56:14 - cmdstanpy - INFO - Chain [1] done processing\n",
      "15:56:14 - cmdstanpy - INFO - Chain [1] start processing\n",
      "15:56:14 - cmdstanpy - INFO - Chain [1] done processing\n",
      "15:56:14 - cmdstanpy - INFO - Chain [1] start processing\n",
      "15:56:14 - cmdstanpy - INFO - Chain [1] done processing\n"
     ]
    },
    {
     "name": "stdout",
     "output_type": "stream",
     "text": [
      "Modeling for: Tay Ho Store_Rice\n",
      "Modeling for: Tay Ho Store_Shampoo\n",
      "Modeling for: Tay Ho Store_Soap\n"
     ]
    },
    {
     "name": "stderr",
     "output_type": "stream",
     "text": [
      "15:56:14 - cmdstanpy - INFO - Chain [1] start processing\n",
      "15:56:14 - cmdstanpy - INFO - Chain [1] done processing\n",
      "15:56:14 - cmdstanpy - INFO - Chain [1] start processing\n",
      "15:56:14 - cmdstanpy - INFO - Chain [1] done processing\n",
      "15:56:14 - cmdstanpy - INFO - Chain [1] start processing\n",
      "15:56:14 - cmdstanpy - INFO - Chain [1] done processing\n"
     ]
    },
    {
     "name": "stdout",
     "output_type": "stream",
     "text": [
      "Modeling for: Tay Ho Store_Soda\n",
      "Modeling for: Tay Ho Store_Sugar\n"
     ]
    },
    {
     "name": "stderr",
     "output_type": "stream",
     "text": [
      "15:56:14 - cmdstanpy - INFO - Chain [1] start processing\n",
      "15:56:14 - cmdstanpy - INFO - Chain [1] done processing\n",
      "15:56:14 - cmdstanpy - INFO - Chain [1] start processing\n",
      "15:56:14 - cmdstanpy - INFO - Chain [1] done processing\n"
     ]
    },
    {
     "name": "stdout",
     "output_type": "stream",
     "text": [
      "Modeling for: Tay Ho Store_Toothpaste\n",
      "Modeling for: Tay Ho Store_Trash Bags\n"
     ]
    },
    {
     "name": "stderr",
     "output_type": "stream",
     "text": [
      "15:56:14 - cmdstanpy - INFO - Chain [1] start processing\n",
      "15:56:14 - cmdstanpy - INFO - Chain [1] done processing\n",
      "15:56:14 - cmdstanpy - INFO - Chain [1] start processing\n",
      "15:56:15 - cmdstanpy - INFO - Chain [1] done processing\n"
     ]
    },
    {
     "name": "stdout",
     "output_type": "stream",
     "text": [
      "Modeling for: Tay Ho Store_Vitamins\n",
      "Modeling for: Tay Ho Store_Water\n"
     ]
    },
    {
     "name": "stderr",
     "output_type": "stream",
     "text": [
      "15:56:15 - cmdstanpy - INFO - Chain [1] start processing\n",
      "15:56:15 - cmdstanpy - INFO - Chain [1] done processing\n"
     ]
    },
    {
     "name": "stdout",
     "output_type": "stream",
     "text": [
      "Modeling for: Tay Ho Store_Yogurt\n"
     ]
    }
   ],
   "source": [
    "prophet_models, prophet_predictions, (avg_mae, avg_rmse, avg_wape) = (\n",
    "    build_prophet_model(prophet_data, train_data, test_data)\n",
    ")"
   ]
  },
  {
   "cell_type": "code",
   "execution_count": 11,
   "id": "10df8f7e-05bb-4c28-bc4c-e3808d724721",
   "metadata": {},
   "outputs": [
    {
     "name": "stdout",
     "output_type": "stream",
     "text": [
      "Prophet Model Results:\n",
      "MAE: 8.88 | RMSE: 11.45 | WAPE: 28.86%\n"
     ]
    }
   ],
   "source": [
    "# Accuracy of Prophet Model\n",
    "print(\n",
    "    f\"Prophet Model Results:\\nMAE: {avg_mae:.2f} | RMSE: {avg_rmse:.2f} | WAPE: {avg_wape:.2f}%\"\n",
    ")"
   ]
  },
  {
   "cell_type": "code",
   "execution_count": 12,
   "id": "2b4c7880-ac4c-4a08-bc44-a9ca44c4ae3b",
   "metadata": {},
   "outputs": [
    {
     "data": {
      "text/html": [
       "<div>\n",
       "<style scoped>\n",
       "    .dataframe tbody tr th:only-of-type {\n",
       "        vertical-align: middle;\n",
       "    }\n",
       "\n",
       "    .dataframe tbody tr th {\n",
       "        vertical-align: top;\n",
       "    }\n",
       "\n",
       "    .dataframe thead th {\n",
       "        text-align: right;\n",
       "    }\n",
       "</style>\n",
       "<table border=\"1\" class=\"dataframe\">\n",
       "  <thead>\n",
       "    <tr style=\"text-align: right;\">\n",
       "      <th></th>\n",
       "      <th>ds</th>\n",
       "      <th>yhat</th>\n",
       "      <th>yhat_lower</th>\n",
       "      <th>yhat_upper</th>\n",
       "      <th>y</th>\n",
       "      <th>store_item</th>\n",
       "    </tr>\n",
       "  </thead>\n",
       "  <tbody>\n",
       "    <tr>\n",
       "      <th>0</th>\n",
       "      <td>2017-10-01</td>\n",
       "      <td>20.910292</td>\n",
       "      <td>13.216302</td>\n",
       "      <td>28.203478</td>\n",
       "      <td>28.0</td>\n",
       "      <td>Ba Dinh Supermarket_Baby Food</td>\n",
       "    </tr>\n",
       "    <tr>\n",
       "      <th>1</th>\n",
       "      <td>2017-10-02</td>\n",
       "      <td>16.447125</td>\n",
       "      <td>9.088910</td>\n",
       "      <td>23.800987</td>\n",
       "      <td>15.0</td>\n",
       "      <td>Ba Dinh Supermarket_Baby Food</td>\n",
       "    </tr>\n",
       "    <tr>\n",
       "      <th>2</th>\n",
       "      <td>2017-10-03</td>\n",
       "      <td>16.913949</td>\n",
       "      <td>9.213145</td>\n",
       "      <td>24.040131</td>\n",
       "      <td>18.0</td>\n",
       "      <td>Ba Dinh Supermarket_Baby Food</td>\n",
       "    </tr>\n",
       "    <tr>\n",
       "      <th>3</th>\n",
       "      <td>2017-10-04</td>\n",
       "      <td>17.170157</td>\n",
       "      <td>9.936648</td>\n",
       "      <td>24.366863</td>\n",
       "      <td>21.0</td>\n",
       "      <td>Ba Dinh Supermarket_Baby Food</td>\n",
       "    </tr>\n",
       "    <tr>\n",
       "      <th>4</th>\n",
       "      <td>2017-10-05</td>\n",
       "      <td>15.581577</td>\n",
       "      <td>8.399738</td>\n",
       "      <td>23.051461</td>\n",
       "      <td>16.0</td>\n",
       "      <td>Ba Dinh Supermarket_Baby Food</td>\n",
       "    </tr>\n",
       "  </tbody>\n",
       "</table>\n",
       "</div>"
      ],
      "text/plain": [
       "          ds       yhat  yhat_lower  yhat_upper     y  \\\n",
       "0 2017-10-01  20.910292   13.216302   28.203478  28.0   \n",
       "1 2017-10-02  16.447125    9.088910   23.800987  15.0   \n",
       "2 2017-10-03  16.913949    9.213145   24.040131  18.0   \n",
       "3 2017-10-04  17.170157    9.936648   24.366863  21.0   \n",
       "4 2017-10-05  15.581577    8.399738   23.051461  16.0   \n",
       "\n",
       "                      store_item  \n",
       "0  Ba Dinh Supermarket_Baby Food  \n",
       "1  Ba Dinh Supermarket_Baby Food  \n",
       "2  Ba Dinh Supermarket_Baby Food  \n",
       "3  Ba Dinh Supermarket_Baby Food  \n",
       "4  Ba Dinh Supermarket_Baby Food  "
      ]
     },
     "metadata": {},
     "output_type": "display_data"
    }
   ],
   "source": [
    "# Convert predicted result to pandas dataframe\n",
    "df_prophet_predictions = flatten_prophet_predictions(prophet_predictions)\n",
    "display(df_prophet_predictions.head())"
   ]
  },
  {
   "cell_type": "code",
   "execution_count": 13,
   "id": "e6a095d1-b6fe-41f0-8528-f2e3f5a14bb1",
   "metadata": {},
   "outputs": [
    {
     "data": {
      "text/html": [
       "<div>\n",
       "<style scoped>\n",
       "    .dataframe tbody tr th:only-of-type {\n",
       "        vertical-align: middle;\n",
       "    }\n",
       "\n",
       "    .dataframe tbody tr th {\n",
       "        vertical-align: top;\n",
       "    }\n",
       "\n",
       "    .dataframe thead th {\n",
       "        text-align: right;\n",
       "    }\n",
       "</style>\n",
       "<table border=\"1\" class=\"dataframe\">\n",
       "  <thead>\n",
       "    <tr style=\"text-align: right;\">\n",
       "      <th></th>\n",
       "      <th>store_item</th>\n",
       "      <th>ds</th>\n",
       "      <th>yhat</th>\n",
       "      <th>yhat_lower</th>\n",
       "      <th>yhat_upper</th>\n",
       "      <th>y</th>\n",
       "    </tr>\n",
       "  </thead>\n",
       "  <tbody>\n",
       "    <tr>\n",
       "      <th>0</th>\n",
       "      <td>Ba Dinh Supermarket_Baby Food</td>\n",
       "      <td>92</td>\n",
       "      <td>92</td>\n",
       "      <td>92</td>\n",
       "      <td>92</td>\n",
       "      <td>92</td>\n",
       "    </tr>\n",
       "    <tr>\n",
       "      <th>1</th>\n",
       "      <td>Ba Dinh Supermarket_Baby Wipes</td>\n",
       "      <td>92</td>\n",
       "      <td>92</td>\n",
       "      <td>92</td>\n",
       "      <td>92</td>\n",
       "      <td>92</td>\n",
       "    </tr>\n",
       "    <tr>\n",
       "      <th>2</th>\n",
       "      <td>Ba Dinh Supermarket_Cheese</td>\n",
       "      <td>92</td>\n",
       "      <td>92</td>\n",
       "      <td>92</td>\n",
       "      <td>92</td>\n",
       "      <td>92</td>\n",
       "    </tr>\n",
       "    <tr>\n",
       "      <th>3</th>\n",
       "      <td>Ba Dinh Supermarket_Chips</td>\n",
       "      <td>92</td>\n",
       "      <td>92</td>\n",
       "      <td>92</td>\n",
       "      <td>92</td>\n",
       "      <td>92</td>\n",
       "    </tr>\n",
       "    <tr>\n",
       "      <th>4</th>\n",
       "      <td>Ba Dinh Supermarket_Chocolate</td>\n",
       "      <td>92</td>\n",
       "      <td>92</td>\n",
       "      <td>92</td>\n",
       "      <td>92</td>\n",
       "      <td>92</td>\n",
       "    </tr>\n",
       "    <tr>\n",
       "      <th>...</th>\n",
       "      <td>...</td>\n",
       "      <td>...</td>\n",
       "      <td>...</td>\n",
       "      <td>...</td>\n",
       "      <td>...</td>\n",
       "      <td>...</td>\n",
       "    </tr>\n",
       "    <tr>\n",
       "      <th>270</th>\n",
       "      <td>Tay Ho Store_Toothpaste</td>\n",
       "      <td>92</td>\n",
       "      <td>92</td>\n",
       "      <td>92</td>\n",
       "      <td>92</td>\n",
       "      <td>92</td>\n",
       "    </tr>\n",
       "    <tr>\n",
       "      <th>271</th>\n",
       "      <td>Tay Ho Store_Trash Bags</td>\n",
       "      <td>92</td>\n",
       "      <td>92</td>\n",
       "      <td>92</td>\n",
       "      <td>92</td>\n",
       "      <td>92</td>\n",
       "    </tr>\n",
       "    <tr>\n",
       "      <th>272</th>\n",
       "      <td>Tay Ho Store_Vitamins</td>\n",
       "      <td>92</td>\n",
       "      <td>92</td>\n",
       "      <td>92</td>\n",
       "      <td>92</td>\n",
       "      <td>92</td>\n",
       "    </tr>\n",
       "    <tr>\n",
       "      <th>273</th>\n",
       "      <td>Tay Ho Store_Water</td>\n",
       "      <td>92</td>\n",
       "      <td>92</td>\n",
       "      <td>92</td>\n",
       "      <td>92</td>\n",
       "      <td>92</td>\n",
       "    </tr>\n",
       "    <tr>\n",
       "      <th>274</th>\n",
       "      <td>Tay Ho Store_Yogurt</td>\n",
       "      <td>92</td>\n",
       "      <td>92</td>\n",
       "      <td>92</td>\n",
       "      <td>92</td>\n",
       "      <td>92</td>\n",
       "    </tr>\n",
       "  </tbody>\n",
       "</table>\n",
       "<p>275 rows × 6 columns</p>\n",
       "</div>"
      ],
      "text/plain": [
       "                         store_item  ds  yhat  yhat_lower  yhat_upper   y\n",
       "0     Ba Dinh Supermarket_Baby Food  92    92          92          92  92\n",
       "1    Ba Dinh Supermarket_Baby Wipes  92    92          92          92  92\n",
       "2        Ba Dinh Supermarket_Cheese  92    92          92          92  92\n",
       "3         Ba Dinh Supermarket_Chips  92    92          92          92  92\n",
       "4     Ba Dinh Supermarket_Chocolate  92    92          92          92  92\n",
       "..                              ...  ..   ...         ...         ...  ..\n",
       "270         Tay Ho Store_Toothpaste  92    92          92          92  92\n",
       "271         Tay Ho Store_Trash Bags  92    92          92          92  92\n",
       "272           Tay Ho Store_Vitamins  92    92          92          92  92\n",
       "273              Tay Ho Store_Water  92    92          92          92  92\n",
       "274             Tay Ho Store_Yogurt  92    92          92          92  92\n",
       "\n",
       "[275 rows x 6 columns]"
      ]
     },
     "execution_count": 13,
     "metadata": {},
     "output_type": "execute_result"
    }
   ],
   "source": [
    "df_prophet_predictions.groupby(\"store_item\").count().reset_index()"
   ]
  },
  {
   "cell_type": "code",
   "execution_count": 14,
   "id": "2e725b65-0f04-4920-a88c-f11f5f2151ba",
   "metadata": {},
   "outputs": [
    {
     "data": {
      "image/png": "[encoded data removed]",
      "text/plain": [
       "<Figure size 1200x600 with 1 Axes>"
      ]
     },
     "metadata": {},
     "output_type": "display_data"
    }
   ],
   "source": [
    "plot_forecast_single(df_prophet_predictions, \"Ba Dinh Supermarket_Baby Wipes\")"
   ]
  },
  {
   "cell_type": "markdown",
   "id": "4630715f-21ce-4859-8325-6f3c8956058b",
   "metadata": {},
   "source": [
    "## Build lightgbm model"
   ]
  },
  {
   "cell_type": "markdown",
   "id": "2ccd0410-c3eb-49a4-bd1b-331fb96ee01c",
   "metadata": {},
   "source": [
    "### Split train and test data"
   ]
  },
  {
   "cell_type": "code",
   "execution_count": 15,
   "id": "597bcd5a-c936-489d-95ca-fbbc33e5ce67",
   "metadata": {},
   "outputs": [],
   "source": [
    "# Drop unnecessary columns for modeling\n",
    "cols_to_drop = [\n",
    "    \"date\",\n",
    "    \"province\",\n",
    "    \"store_name\",\n",
    "    \"item_name\",\n",
    "    \"store_item\",\n",
    "    \"is_test\",\n",
    "    \"category\",\n",
    "]\n",
    "\n",
    "# Split features and target, and separate train/test\n",
    "X_train = df_features[~df_features[\"is_test\"]].drop(cols_to_drop + [\"sales\"], axis=1)\n",
    "y_train = df_features[~df_features[\"is_test\"]][\"sales\"]\n",
    "\n",
    "X_test = df_features[df_features[\"is_test\"]].drop(cols_to_drop + [\"sales\"], axis=1)\n",
    "y_test = df_features[df_features[\"is_test\"]][\"sales\"]"
   ]
  },
  {
   "cell_type": "code",
   "execution_count": 16,
   "id": "a7831447-9dfc-4d65-8a2a-486c7dc9d718",
   "metadata": {},
   "outputs": [
    {
     "data": {
      "text/html": [
       "<div>\n",
       "<style scoped>\n",
       "    .dataframe tbody tr th:only-of-type {\n",
       "        vertical-align: middle;\n",
       "    }\n",
       "\n",
       "    .dataframe tbody tr th {\n",
       "        vertical-align: top;\n",
       "    }\n",
       "\n",
       "    .dataframe thead th {\n",
       "        text-align: right;\n",
       "    }\n",
       "</style>\n",
       "<table border=\"1\" class=\"dataframe\">\n",
       "  <thead>\n",
       "    <tr style=\"text-align: right;\">\n",
       "      <th></th>\n",
       "      <th>store_id</th>\n",
       "      <th>item_id</th>\n",
       "      <th>temperature</th>\n",
       "      <th>humidity</th>\n",
       "      <th>year</th>\n",
       "      <th>month</th>\n",
       "      <th>day</th>\n",
       "      <th>day_of_week</th>\n",
       "      <th>is_weekend</th>\n",
       "      <th>quarter</th>\n",
       "      <th>...</th>\n",
       "      <th>sales_ewma_7d_a05</th>\n",
       "      <th>sales_ewma_14d_a05</th>\n",
       "      <th>sales_ewma_28d_a05</th>\n",
       "      <th>sales_ewma_7d_a075</th>\n",
       "      <th>sales_ewma_14d_a075</th>\n",
       "      <th>sales_ewma_28d_a075</th>\n",
       "      <th>store_mean_7d</th>\n",
       "      <th>store_sum_7d</th>\n",
       "      <th>item_mean_7d</th>\n",
       "      <th>item_sum_7d</th>\n",
       "    </tr>\n",
       "  </thead>\n",
       "  <tbody>\n",
       "    <tr>\n",
       "      <th>7752</th>\n",
       "      <td>2</td>\n",
       "      <td>30</td>\n",
       "      <td>16.5</td>\n",
       "      <td>74.3</td>\n",
       "      <td>2016</td>\n",
       "      <td>1</td>\n",
       "      <td>29</td>\n",
       "      <td>4</td>\n",
       "      <td>0</td>\n",
       "      <td>1</td>\n",
       "      <td>...</td>\n",
       "      <td>19.492031</td>\n",
       "      <td>19.492031</td>\n",
       "      <td>19.492031</td>\n",
       "      <td>22.260379</td>\n",
       "      <td>22.260379</td>\n",
       "      <td>22.260379</td>\n",
       "      <td>24.089571</td>\n",
       "      <td>674.507994</td>\n",
       "      <td>25.125000</td>\n",
       "      <td>201.000000</td>\n",
       "    </tr>\n",
       "    <tr>\n",
       "      <th>7753</th>\n",
       "      <td>2</td>\n",
       "      <td>31</td>\n",
       "      <td>16.5</td>\n",
       "      <td>74.3</td>\n",
       "      <td>2016</td>\n",
       "      <td>1</td>\n",
       "      <td>29</td>\n",
       "      <td>4</td>\n",
       "      <td>0</td>\n",
       "      <td>1</td>\n",
       "      <td>...</td>\n",
       "      <td>22.468999</td>\n",
       "      <td>22.468999</td>\n",
       "      <td>22.468999</td>\n",
       "      <td>22.523939</td>\n",
       "      <td>22.523939</td>\n",
       "      <td>22.523939</td>\n",
       "      <td>24.089571</td>\n",
       "      <td>674.507994</td>\n",
       "      <td>34.333333</td>\n",
       "      <td>206.000000</td>\n",
       "    </tr>\n",
       "    <tr>\n",
       "      <th>7734</th>\n",
       "      <td>2</td>\n",
       "      <td>8</td>\n",
       "      <td>16.5</td>\n",
       "      <td>74.3</td>\n",
       "      <td>2016</td>\n",
       "      <td>1</td>\n",
       "      <td>29</td>\n",
       "      <td>4</td>\n",
       "      <td>0</td>\n",
       "      <td>1</td>\n",
       "      <td>...</td>\n",
       "      <td>11.903262</td>\n",
       "      <td>11.903262</td>\n",
       "      <td>11.903262</td>\n",
       "      <td>10.141156</td>\n",
       "      <td>10.141156</td>\n",
       "      <td>10.141156</td>\n",
       "      <td>24.089571</td>\n",
       "      <td>674.507994</td>\n",
       "      <td>19.111111</td>\n",
       "      <td>172.000000</td>\n",
       "    </tr>\n",
       "    <tr>\n",
       "      <th>7742</th>\n",
       "      <td>2</td>\n",
       "      <td>17</td>\n",
       "      <td>16.5</td>\n",
       "      <td>74.3</td>\n",
       "      <td>2016</td>\n",
       "      <td>1</td>\n",
       "      <td>29</td>\n",
       "      <td>4</td>\n",
       "      <td>0</td>\n",
       "      <td>1</td>\n",
       "      <td>...</td>\n",
       "      <td>51.371082</td>\n",
       "      <td>51.371082</td>\n",
       "      <td>51.371082</td>\n",
       "      <td>51.348363</td>\n",
       "      <td>51.348363</td>\n",
       "      <td>51.348363</td>\n",
       "      <td>24.089571</td>\n",
       "      <td>674.507994</td>\n",
       "      <td>49.428571</td>\n",
       "      <td>346.000000</td>\n",
       "    </tr>\n",
       "    <tr>\n",
       "      <th>7744</th>\n",
       "      <td>2</td>\n",
       "      <td>19</td>\n",
       "      <td>16.5</td>\n",
       "      <td>74.3</td>\n",
       "      <td>2016</td>\n",
       "      <td>1</td>\n",
       "      <td>29</td>\n",
       "      <td>4</td>\n",
       "      <td>0</td>\n",
       "      <td>1</td>\n",
       "      <td>...</td>\n",
       "      <td>33.927792</td>\n",
       "      <td>33.927792</td>\n",
       "      <td>33.927792</td>\n",
       "      <td>36.936238</td>\n",
       "      <td>36.936238</td>\n",
       "      <td>36.936238</td>\n",
       "      <td>24.089571</td>\n",
       "      <td>674.507994</td>\n",
       "      <td>39.833333</td>\n",
       "      <td>239.000000</td>\n",
       "    </tr>\n",
       "    <tr>\n",
       "      <th>...</th>\n",
       "      <td>...</td>\n",
       "      <td>...</td>\n",
       "      <td>...</td>\n",
       "      <td>...</td>\n",
       "      <td>...</td>\n",
       "      <td>...</td>\n",
       "      <td>...</td>\n",
       "      <td>...</td>\n",
       "      <td>...</td>\n",
       "      <td>...</td>\n",
       "      <td>...</td>\n",
       "      <td>...</td>\n",
       "      <td>...</td>\n",
       "      <td>...</td>\n",
       "      <td>...</td>\n",
       "      <td>...</td>\n",
       "      <td>...</td>\n",
       "      <td>...</td>\n",
       "      <td>...</td>\n",
       "      <td>...</td>\n",
       "      <td>...</td>\n",
       "    </tr>\n",
       "    <tr>\n",
       "      <th>175554</th>\n",
       "      <td>4</td>\n",
       "      <td>22</td>\n",
       "      <td>28.4</td>\n",
       "      <td>77.6</td>\n",
       "      <td>2017</td>\n",
       "      <td>9</td>\n",
       "      <td>30</td>\n",
       "      <td>5</td>\n",
       "      <td>1</td>\n",
       "      <td>3</td>\n",
       "      <td>...</td>\n",
       "      <td>27.279200</td>\n",
       "      <td>27.279200</td>\n",
       "      <td>27.279200</td>\n",
       "      <td>25.989762</td>\n",
       "      <td>25.989762</td>\n",
       "      <td>25.989762</td>\n",
       "      <td>30.982999</td>\n",
       "      <td>867.523983</td>\n",
       "      <td>37.000000</td>\n",
       "      <td>259.000000</td>\n",
       "    </tr>\n",
       "    <tr>\n",
       "      <th>175556</th>\n",
       "      <td>4</td>\n",
       "      <td>26</td>\n",
       "      <td>28.4</td>\n",
       "      <td>77.6</td>\n",
       "      <td>2017</td>\n",
       "      <td>9</td>\n",
       "      <td>30</td>\n",
       "      <td>5</td>\n",
       "      <td>1</td>\n",
       "      <td>3</td>\n",
       "      <td>...</td>\n",
       "      <td>16.494764</td>\n",
       "      <td>16.494764</td>\n",
       "      <td>16.494764</td>\n",
       "      <td>17.556100</td>\n",
       "      <td>17.556100</td>\n",
       "      <td>17.556100</td>\n",
       "      <td>30.982999</td>\n",
       "      <td>867.523983</td>\n",
       "      <td>18.125000</td>\n",
       "      <td>145.000000</td>\n",
       "    </tr>\n",
       "    <tr>\n",
       "      <th>175562</th>\n",
       "      <td>4</td>\n",
       "      <td>33</td>\n",
       "      <td>28.4</td>\n",
       "      <td>77.6</td>\n",
       "      <td>2017</td>\n",
       "      <td>9</td>\n",
       "      <td>30</td>\n",
       "      <td>5</td>\n",
       "      <td>1</td>\n",
       "      <td>3</td>\n",
       "      <td>...</td>\n",
       "      <td>18.248556</td>\n",
       "      <td>18.248556</td>\n",
       "      <td>18.248556</td>\n",
       "      <td>16.932354</td>\n",
       "      <td>16.932354</td>\n",
       "      <td>16.932354</td>\n",
       "      <td>30.982999</td>\n",
       "      <td>867.523983</td>\n",
       "      <td>16.714286</td>\n",
       "      <td>117.000000</td>\n",
       "    </tr>\n",
       "    <tr>\n",
       "      <th>175548</th>\n",
       "      <td>4</td>\n",
       "      <td>14</td>\n",
       "      <td>28.4</td>\n",
       "      <td>77.6</td>\n",
       "      <td>2017</td>\n",
       "      <td>9</td>\n",
       "      <td>30</td>\n",
       "      <td>5</td>\n",
       "      <td>1</td>\n",
       "      <td>3</td>\n",
       "      <td>...</td>\n",
       "      <td>87.188531</td>\n",
       "      <td>87.188531</td>\n",
       "      <td>87.188531</td>\n",
       "      <td>95.349882</td>\n",
       "      <td>95.349882</td>\n",
       "      <td>95.349882</td>\n",
       "      <td>30.982999</td>\n",
       "      <td>867.523983</td>\n",
       "      <td>53.646283</td>\n",
       "      <td>375.523983</td>\n",
       "    </tr>\n",
       "    <tr>\n",
       "      <th>175545</th>\n",
       "      <td>4</td>\n",
       "      <td>9</td>\n",
       "      <td>28.4</td>\n",
       "      <td>77.6</td>\n",
       "      <td>2017</td>\n",
       "      <td>9</td>\n",
       "      <td>30</td>\n",
       "      <td>5</td>\n",
       "      <td>1</td>\n",
       "      <td>3</td>\n",
       "      <td>...</td>\n",
       "      <td>16.834737</td>\n",
       "      <td>16.834737</td>\n",
       "      <td>16.834737</td>\n",
       "      <td>14.160428</td>\n",
       "      <td>14.160428</td>\n",
       "      <td>14.160428</td>\n",
       "      <td>30.982999</td>\n",
       "      <td>867.523983</td>\n",
       "      <td>58.400000</td>\n",
       "      <td>584.000000</td>\n",
       "    </tr>\n",
       "  </tbody>\n",
       "</table>\n",
       "<p>168025 rows × 47 columns</p>\n",
       "</div>"
      ],
      "text/plain": [
       "        store_id  item_id  temperature  humidity  year  month  day  \\\n",
       "7752           2       30         16.5      74.3  2016      1   29   \n",
       "7753           2       31         16.5      74.3  2016      1   29   \n",
       "7734           2        8         16.5      74.3  2016      1   29   \n",
       "7742           2       17         16.5      74.3  2016      1   29   \n",
       "7744           2       19         16.5      74.3  2016      1   29   \n",
       "...          ...      ...          ...       ...   ...    ...  ...   \n",
       "175554         4       22         28.4      77.6  2017      9   30   \n",
       "175556         4       26         28.4      77.6  2017      9   30   \n",
       "175562         4       33         28.4      77.6  2017      9   30   \n",
       "175548         4       14         28.4      77.6  2017      9   30   \n",
       "175545         4        9         28.4      77.6  2017      9   30   \n",
       "\n",
       "        day_of_week  is_weekend  quarter  ...  sales_ewma_7d_a05  \\\n",
       "7752              4           0        1  ...          19.492031   \n",
       "7753              4           0        1  ...          22.468999   \n",
       "7734              4           0        1  ...          11.903262   \n",
       "7742              4           0        1  ...          51.371082   \n",
       "7744              4           0        1  ...          33.927792   \n",
       "...             ...         ...      ...  ...                ...   \n",
       "175554            5           1        3  ...          27.279200   \n",
       "175556            5           1        3  ...          16.494764   \n",
       "175562            5           1        3  ...          18.248556   \n",
       "175548            5           1        3  ...          87.188531   \n",
       "175545            5           1        3  ...          16.834737   \n",
       "\n",
       "        sales_ewma_14d_a05  sales_ewma_28d_a05  sales_ewma_7d_a075  \\\n",
       "7752             19.492031           19.492031           22.260379   \n",
       "7753             22.468999           22.468999           22.523939   \n",
       "7734             11.903262           11.903262           10.141156   \n",
       "7742             51.371082           51.371082           51.348363   \n",
       "7744             33.927792           33.927792           36.936238   \n",
       "...                    ...                 ...                 ...   \n",
       "175554           27.279200           27.279200           25.989762   \n",
       "175556           16.494764           16.494764           17.556100   \n",
       "175562           18.248556           18.248556           16.932354   \n",
       "175548           87.188531           87.188531           95.349882   \n",
       "175545           16.834737           16.834737           14.160428   \n",
       "\n",
       "        sales_ewma_14d_a075  sales_ewma_28d_a075  store_mean_7d  store_sum_7d  \\\n",
       "7752              22.260379            22.260379      24.089571    674.507994   \n",
       "7753              22.523939            22.523939      24.089571    674.507994   \n",
       "7734              10.141156            10.141156      24.089571    674.507994   \n",
       "7742              51.348363            51.348363      24.089571    674.507994   \n",
       "7744              36.936238            36.936238      24.089571    674.507994   \n",
       "...                     ...                  ...            ...           ...   \n",
       "175554            25.989762            25.989762      30.982999    867.523983   \n",
       "175556            17.556100            17.556100      30.982999    867.523983   \n",
       "175562            16.932354            16.932354      30.982999    867.523983   \n",
       "175548            95.349882            95.349882      30.982999    867.523983   \n",
       "175545            14.160428            14.160428      30.982999    867.523983   \n",
       "\n",
       "        item_mean_7d  item_sum_7d  \n",
       "7752       25.125000   201.000000  \n",
       "7753       34.333333   206.000000  \n",
       "7734       19.111111   172.000000  \n",
       "7742       49.428571   346.000000  \n",
       "7744       39.833333   239.000000  \n",
       "...              ...          ...  \n",
       "175554     37.000000   259.000000  \n",
       "175556     18.125000   145.000000  \n",
       "175562     16.714286   117.000000  \n",
       "175548     53.646283   375.523983  \n",
       "175545     58.400000   584.000000  \n",
       "\n",
       "[168025 rows x 47 columns]"
      ]
     },
     "execution_count": 16,
     "metadata": {},
     "output_type": "execute_result"
    }
   ],
   "source": [
    "X_train"
   ]
  },
  {
   "cell_type": "markdown",
   "id": "cac3bdc1-c273-4ee0-8f7f-923897e4cf84",
   "metadata": {},
   "source": [
    "### Build a lightgbm model"
   ]
  },
  {
   "cell_type": "code",
   "execution_count": 17,
   "id": "7ea66f23-83e6-45d6-90d0-dd262986d044",
   "metadata": {},
   "outputs": [],
   "source": [
    "def create_lightgbm_model(X_train, y_train, X_test, y_test):\n",
    "    \"\"\"\n",
    "    Create a LightGBM model using engineered features\n",
    "    \"\"\"\n",
    "    print(\"\\nCreating base lightgbm model...\")\n",
    "\n",
    "    # Use a time series split for validation within the training set\n",
    "    # This ensures we're always validating on future data\n",
    "    tscv = TimeSeriesSplit(n_splits=5)\n",
    "\n",
    "    # Basic LightGBM parameters\n",
    "    params = {\n",
    "        \"objective\": \"regression\",\n",
    "        \"metric\": \"rmse\",\n",
    "        \"boosting_type\": \"gbdt\",\n",
    "        \"num_leaves\": 31,\n",
    "        \"learning_rate\": 0.05,\n",
    "        \"feature_fraction\": 0.9,\n",
    "        \"n_estimators\": 100,\n",
    "        \"verbose\": -1,\n",
    "    }\n",
    "\n",
    "    # Train the model with cross-validation on training data only\n",
    "    cv_scores = []\n",
    "\n",
    "    for train_idx, val_idx in tscv.split(X_train):\n",
    "        X_train_cv, X_val_cv = X_train.iloc[train_idx], X_train.iloc[val_idx]\n",
    "        y_train_cv, y_val_cv = y_train.iloc[train_idx], y_train.iloc[val_idx]\n",
    "\n",
    "        # Train the model\n",
    "        model = lgbm.LGBMRegressor(**params)\n",
    "        model.fit(\n",
    "            X_train_cv,\n",
    "            y_train_cv,\n",
    "            eval_set=[(X_val_cv, y_val_cv)],\n",
    "            # early_stopping_rounds=50,\n",
    "            # verbose=False\n",
    "        )\n",
    "\n",
    "        # Make predictions\n",
    "        preds = model.predict(X_val_cv)\n",
    "\n",
    "        # Calculate metrics\n",
    "        mae = mean_absolute_error(y_val_cv, preds)\n",
    "        rmse = np.sqrt(mean_squared_error(y_val_cv, preds))\n",
    "        wape = weighted_absolute_percentage_error(y_val_cv, preds)\n",
    "\n",
    "        cv_scores.append((mae, rmse, wape))\n",
    "\n",
    "    # Print average scores from cross-validation\n",
    "    mae_avg, rmse_avg, wape_avg = np.mean(cv_scores, axis=0)\n",
    "    print(\n",
    "        f\"Baseline Model CV - MAE: {mae_avg:.2f}, RMSE: {rmse_avg:.2f}, WAPE: {wape_avg:.2f}%\"\n",
    "    )\n",
    "\n",
    "    # Train a final model on all training data\n",
    "    final_model = lgbm.LGBMRegressor(**params)\n",
    "    final_model.fit(X_train, y_train)\n",
    "\n",
    "    # Evaluate on the test set (last 3 months of 2017)\n",
    "    test_preds = final_model.predict(X_test)\n",
    "    test_mae = mean_absolute_error(y_test, test_preds)\n",
    "    test_rmse = np.sqrt(mean_squared_error(y_test, test_preds))\n",
    "    test_wape = weighted_absolute_percentage_error(y_test, test_preds)\n",
    "\n",
    "    print(\n",
    "        f\"Baseline Model Test - MAE: {test_mae:.2f}, RMSE: {test_rmse:.2f}, WAPE: {test_wape:.2f}%\"\n",
    "    )\n",
    "\n",
    "    return final_model, (test_mae, test_rmse, test_wape)"
   ]
  },
  {
   "cell_type": "code",
   "execution_count": 18,
   "id": "f52819f7-c5fa-43b4-99b5-01dc13a5e0b9",
   "metadata": {},
   "outputs": [
    {
     "name": "stdout",
     "output_type": "stream",
     "text": [
      "\n",
      "Creating base lightgbm model...\n",
      "Baseline Model CV - MAE: 7.00, RMSE: 11.10, WAPE: 25.62%\n",
      "Baseline Model Test - MAE: 7.64, RMSE: 11.76, WAPE: 24.82%\n"
     ]
    }
   ],
   "source": [
    "# Create basic lgihtgbm model\n",
    "lightgbm_model, lightgbm_metrics = create_lightgbm_model(\n",
    "    X_train, y_train, X_test, y_test\n",
    ")"
   ]
  },
  {
   "cell_type": "markdown",
   "id": "5cc8bad5-ddbd-4091-ba03-5bcfbe412736",
   "metadata": {},
   "source": [
    "### (Optional) Fine tunning using Optuna"
   ]
  },
  {
   "cell_type": "code",
   "execution_count": 19,
   "id": "91197807-9c05-43ad-bcd0-4040f913a79b",
   "metadata": {},
   "outputs": [],
   "source": [
    "def optimize_lightgbm(X_train, y_train, X_test, y_test):\n",
    "    \"\"\"\n",
    "    Optimize LightGBM model using Optuna\n",
    "    \"\"\"\n",
    "\n",
    "    print(\"\\nOptimizing LightGBM model with Optuna...\")\n",
    "\n",
    "    def objective(trial):\n",
    "        \"\"\"Optuna objective function for LightGBM optimization\"\"\"\n",
    "        params = {\n",
    "            \"objective\": \"regression\",\n",
    "            \"metric\": \"rmse\",\n",
    "            \"boosting_type\": \"gbdt\",\n",
    "            \"num_leaves\": trial.suggest_int(\"num_leaves\", 15, 50),\n",
    "            \"learning_rate\": trial.suggest_float(\"learning_rate\", 0.01, 0.1),\n",
    "            \"feature_fraction\": trial.suggest_float(\"feature_fraction\", 0.7, 1.0),\n",
    "            \"bagging_fraction\": trial.suggest_float(\"bagging_fraction\", 0.7, 1.0),\n",
    "            \"bagging_freq\": trial.suggest_int(\"bagging_freq\", 1, 10),\n",
    "            \"min_child_samples\": trial.suggest_int(\"min_child_samples\", 5, 30),\n",
    "            \"n_estimators\": 1000,\n",
    "            \"verbose\": -1,\n",
    "        }\n",
    "\n",
    "        # Train with early stopping\n",
    "        model = lgbm.LGBMRegressor(**params)\n",
    "        model.fit(\n",
    "            X_train,\n",
    "            y_train,\n",
    "            eval_set=[(X_test, y_test)],\n",
    "            callbacks=[lgbm.early_stopping(stopping_rounds=50)],\n",
    "            # verbose=False,\n",
    "        )\n",
    "\n",
    "        # Predict and calculate RMSE\n",
    "        preds = model.predict(X_test)\n",
    "        rmse = np.sqrt(mean_squared_error(y_test, preds))\n",
    "\n",
    "        return rmse\n",
    "\n",
    "    # Create and run study\n",
    "    study = optuna.create_study(direction=\"minimize\")\n",
    "    study.optimize(objective, n_trials=20)  # In practice, use more trials\n",
    "\n",
    "    # Get best parameters\n",
    "    best_params = study.best_params\n",
    "    best_params.update(\n",
    "        {\n",
    "            \"objective\": \"regression\",\n",
    "            \"metric\": \"rmse\",\n",
    "            \"boosting_type\": \"gbdt\",\n",
    "            \"verbose\": -1,\n",
    "        }\n",
    "    )\n",
    "\n",
    "    print(\"Best LightGBM parameters found:\")\n",
    "    for key, value in best_params.items():\n",
    "        print(f\"    {key}: {value}\")\n",
    "\n",
    "    # Train final model with best parameters\n",
    "    final_model = lgbm.LGBMRegressor(**best_params)\n",
    "    final_model.fit(X_train, y_train)\n",
    "\n",
    "    # Make predictions\n",
    "    test_preds = final_model.predict(X_test)\n",
    "\n",
    "    # Calculate metrics\n",
    "    test_mae = mean_absolute_error(y_test, test_preds)\n",
    "    test_rmse = np.sqrt(mean_squared_error(y_test, test_preds))\n",
    "    test_wape = weighted_absolute_percentage_error(y_test, test_preds)\n",
    "\n",
    "    print(\n",
    "        f\"Optimized LightGBM Test Metrics - MAE: {test_mae:.2f}, RMSE: {test_rmse:.2f}, WAPE: {test_wape:.2f}%\"\n",
    "    )\n",
    "\n",
    "    return final_model, test_preds, (test_mae, test_rmse, test_wape)"
   ]
  },
  {
   "cell_type": "code",
   "execution_count": 20,
   "id": "a39ebd4d-bf01-4e6a-9976-e9574eb7767c",
   "metadata": {
    "scrolled": true
   },
   "outputs": [
    {
     "name": "stderr",
     "output_type": "stream",
     "text": [
      "[I 2025-05-02 15:56:22,570] A new study created in memory with name: no-name-4508cb1f-c568-4ae8-8d1d-543406edb426\n"
     ]
    },
    {
     "name": "stdout",
     "output_type": "stream",
     "text": [
      "\n",
      "Optimizing LightGBM model with Optuna...\n",
      "Training until validation scores don't improve for 50 rounds\n"
     ]
    },
    {
     "name": "stderr",
     "output_type": "stream",
     "text": [
      "[I 2025-05-02 15:56:25,345] Trial 0 finished with value: 11.649999834393965 and parameters: {'num_leaves': 40, 'learning_rate': 0.08297978060044148, 'feature_fraction': 0.9019463161467259, 'bagging_fraction': 0.8764627124102412, 'bagging_freq': 3, 'min_child_samples': 24}. Best is trial 0 with value: 11.649999834393965.\n"
     ]
    },
    {
     "name": "stdout",
     "output_type": "stream",
     "text": [
      "Early stopping, best iteration is:\n",
      "[140]\tvalid_0's rmse: 11.65\n",
      "Training until validation scores don't improve for 50 rounds\n"
     ]
    },
    {
     "name": "stderr",
     "output_type": "stream",
     "text": [
      "[I 2025-05-02 15:56:29,939] Trial 1 finished with value: 11.604653786850228 and parameters: {'num_leaves': 50, 'learning_rate': 0.059576663129270006, 'feature_fraction': 0.9819465596399095, 'bagging_fraction': 0.7369457351386607, 'bagging_freq': 5, 'min_child_samples': 18}. Best is trial 1 with value: 11.604653786850228.\n"
     ]
    },
    {
     "name": "stdout",
     "output_type": "stream",
     "text": [
      "Early stopping, best iteration is:\n",
      "[240]\tvalid_0's rmse: 11.6047\n",
      "Training until validation scores don't improve for 50 rounds\n"
     ]
    },
    {
     "name": "stderr",
     "output_type": "stream",
     "text": [
      "[I 2025-05-02 15:56:37,056] Trial 2 finished with value: 11.596828985916476 and parameters: {'num_leaves': 19, 'learning_rate': 0.03197864510455689, 'feature_fraction': 0.9103026019205502, 'bagging_fraction': 0.9646607285741408, 'bagging_freq': 6, 'min_child_samples': 22}. Best is trial 2 with value: 11.596828985916476.\n"
     ]
    },
    {
     "name": "stdout",
     "output_type": "stream",
     "text": [
      "Early stopping, best iteration is:\n",
      "[878]\tvalid_0's rmse: 11.5968\n",
      "Training until validation scores don't improve for 50 rounds\n"
     ]
    },
    {
     "name": "stderr",
     "output_type": "stream",
     "text": [
      "[I 2025-05-02 15:56:41,508] Trial 3 finished with value: 11.642039619692293 and parameters: {'num_leaves': 33, 'learning_rate': 0.039451229734209746, 'feature_fraction': 0.9480222745541578, 'bagging_fraction': 0.7299802243107281, 'bagging_freq': 6, 'min_child_samples': 22}. Best is trial 2 with value: 11.596828985916476.\n"
     ]
    },
    {
     "name": "stdout",
     "output_type": "stream",
     "text": [
      "Early stopping, best iteration is:\n",
      "[345]\tvalid_0's rmse: 11.642\n",
      "Training until validation scores don't improve for 50 rounds\n"
     ]
    },
    {
     "name": "stderr",
     "output_type": "stream",
     "text": [
      "[I 2025-05-02 15:56:50,894] Trial 4 finished with value: 11.614240642778121 and parameters: {'num_leaves': 30, 'learning_rate': 0.027357022165892725, 'feature_fraction': 0.7716864881161948, 'bagging_fraction': 0.9680992801019651, 'bagging_freq': 5, 'min_child_samples': 8}. Best is trial 2 with value: 11.596828985916476.\n"
     ]
    },
    {
     "name": "stdout",
     "output_type": "stream",
     "text": [
      "Early stopping, best iteration is:\n",
      "[822]\tvalid_0's rmse: 11.6142\n",
      "Training until validation scores don't improve for 50 rounds\n"
     ]
    },
    {
     "name": "stderr",
     "output_type": "stream",
     "text": [
      "[I 2025-05-02 15:56:55,414] Trial 5 finished with value: 11.632428123987449 and parameters: {'num_leaves': 15, 'learning_rate': 0.04915194589457893, 'feature_fraction': 0.9556165495634417, 'bagging_fraction': 0.9567622714054037, 'bagging_freq': 8, 'min_child_samples': 27}. Best is trial 2 with value: 11.596828985916476.\n"
     ]
    },
    {
     "name": "stdout",
     "output_type": "stream",
     "text": [
      "Early stopping, best iteration is:\n",
      "[626]\tvalid_0's rmse: 11.6324\n",
      "Training until validation scores don't improve for 50 rounds\n"
     ]
    },
    {
     "name": "stderr",
     "output_type": "stream",
     "text": [
      "[I 2025-05-02 15:57:01,372] Trial 6 finished with value: 11.635322991075407 and parameters: {'num_leaves': 17, 'learning_rate': 0.04138434151149077, 'feature_fraction': 0.8103273603246913, 'bagging_fraction': 0.9411952011105488, 'bagging_freq': 5, 'min_child_samples': 10}. Best is trial 2 with value: 11.596828985916476.\n"
     ]
    },
    {
     "name": "stdout",
     "output_type": "stream",
     "text": [
      "Early stopping, best iteration is:\n",
      "[768]\tvalid_0's rmse: 11.6353\n",
      "Training until validation scores don't improve for 50 rounds\n"
     ]
    },
    {
     "name": "stderr",
     "output_type": "stream",
     "text": [
      "[I 2025-05-02 15:57:05,089] Trial 7 finished with value: 11.683546193879376 and parameters: {'num_leaves': 44, 'learning_rate': 0.08025436185671957, 'feature_fraction': 0.7141717293983597, 'bagging_fraction': 0.7889999796549785, 'bagging_freq': 9, 'min_child_samples': 17}. Best is trial 2 with value: 11.596828985916476.\n"
     ]
    },
    {
     "name": "stdout",
     "output_type": "stream",
     "text": [
      "Early stopping, best iteration is:\n",
      "[210]\tvalid_0's rmse: 11.6835\n",
      "Training until validation scores don't improve for 50 rounds\n"
     ]
    },
    {
     "name": "stderr",
     "output_type": "stream",
     "text": [
      "[I 2025-05-02 15:57:09,513] Trial 8 finished with value: 11.644138827149211 and parameters: {'num_leaves': 17, 'learning_rate': 0.06113562593384454, 'feature_fraction': 0.7532497370430334, 'bagging_fraction': 0.8213093572929867, 'bagging_freq': 6, 'min_child_samples': 20}. Best is trial 2 with value: 11.596828985916476.\n"
     ]
    },
    {
     "name": "stdout",
     "output_type": "stream",
     "text": [
      "Early stopping, best iteration is:\n",
      "[574]\tvalid_0's rmse: 11.6441\n",
      "Training until validation scores don't improve for 50 rounds\n"
     ]
    },
    {
     "name": "stderr",
     "output_type": "stream",
     "text": [
      "[I 2025-05-02 15:57:12,799] Trial 9 finished with value: 11.668722344822951 and parameters: {'num_leaves': 31, 'learning_rate': 0.08713684451193092, 'feature_fraction': 0.816807935721348, 'bagging_fraction': 0.7415203241183309, 'bagging_freq': 10, 'min_child_samples': 6}. Best is trial 2 with value: 11.596828985916476.\n"
     ]
    },
    {
     "name": "stdout",
     "output_type": "stream",
     "text": [
      "Early stopping, best iteration is:\n",
      "[255]\tvalid_0's rmse: 11.6687\n",
      "Training until validation scores don't improve for 50 rounds\n"
     ]
    },
    {
     "name": "stderr",
     "output_type": "stream",
     "text": [
      "[I 2025-05-02 15:57:21,111] Trial 10 finished with value: 11.601668749016772 and parameters: {'num_leaves': 24, 'learning_rate': 0.019162957293801824, 'feature_fraction': 0.8871121050578056, 'bagging_fraction': 0.888487105240534, 'bagging_freq': 1, 'min_child_samples': 29}. Best is trial 2 with value: 11.596828985916476.\n"
     ]
    },
    {
     "name": "stdout",
     "output_type": "stream",
     "text": [
      "Did not meet early stopping. Best iteration is:\n",
      "[999]\tvalid_0's rmse: 11.6017\n",
      "Training until validation scores don't improve for 50 rounds\n"
     ]
    },
    {
     "name": "stderr",
     "output_type": "stream",
     "text": [
      "[I 2025-05-02 15:57:29,821] Trial 11 finished with value: 11.651894892502847 and parameters: {'num_leaves': 24, 'learning_rate': 0.01040319715120503, 'feature_fraction': 0.8865605849457928, 'bagging_fraction': 0.8970265965840643, 'bagging_freq': 1, 'min_child_samples': 29}. Best is trial 2 with value: 11.596828985916476.\n"
     ]
    },
    {
     "name": "stdout",
     "output_type": "stream",
     "text": [
      "Did not meet early stopping. Best iteration is:\n",
      "[1000]\tvalid_0's rmse: 11.6519\n",
      "Training until validation scores don't improve for 50 rounds\n"
     ]
    },
    {
     "name": "stderr",
     "output_type": "stream",
     "text": [
      "[I 2025-05-02 15:57:38,376] Trial 12 finished with value: 11.625149168309406 and parameters: {'num_leaves': 24, 'learning_rate': 0.014977807118576363, 'feature_fraction': 0.8833779813901699, 'bagging_fraction': 0.909097090864725, 'bagging_freq': 1, 'min_child_samples': 30}. Best is trial 2 with value: 11.596828985916476.\n"
     ]
    },
    {
     "name": "stdout",
     "output_type": "stream",
     "text": [
      "Did not meet early stopping. Best iteration is:\n",
      "[1000]\tvalid_0's rmse: 11.6251\n",
      "Training until validation scores don't improve for 50 rounds\n"
     ]
    },
    {
     "name": "stderr",
     "output_type": "stream",
     "text": [
      "[I 2025-05-02 15:57:47,784] Trial 13 finished with value: 11.616592089001601 and parameters: {'num_leaves': 23, 'learning_rate': 0.027301299898921653, 'feature_fraction': 0.9195697067663446, 'bagging_fraction': 0.855317172352172, 'bagging_freq': 3, 'min_child_samples': 14}. Best is trial 2 with value: 11.596828985916476.\n"
     ]
    },
    {
     "name": "stdout",
     "output_type": "stream",
     "text": [
      "Early stopping, best iteration is:\n",
      "[949]\tvalid_0's rmse: 11.6166\n",
      "Training until validation scores don't improve for 50 rounds\n"
     ]
    },
    {
     "name": "stderr",
     "output_type": "stream",
     "text": [
      "[I 2025-05-02 15:57:56,239] Trial 14 finished with value: 11.615447069452726 and parameters: {'num_leaves': 22, 'learning_rate': 0.02637137974442341, 'feature_fraction': 0.8555265758180555, 'bagging_fraction': 0.9973856174483483, 'bagging_freq': 3, 'min_child_samples': 25}. Best is trial 2 with value: 11.596828985916476.\n"
     ]
    },
    {
     "name": "stdout",
     "output_type": "stream",
     "text": [
      "Early stopping, best iteration is:\n",
      "[856]\tvalid_0's rmse: 11.6154\n",
      "Training until validation scores don't improve for 50 rounds\n"
     ]
    },
    {
     "name": "stderr",
     "output_type": "stream",
     "text": [
      "[I 2025-05-02 15:58:06,888] Trial 15 finished with value: 11.606916160712956 and parameters: {'num_leaves': 28, 'learning_rate': 0.020231531249513955, 'feature_fraction': 0.8463966022261085, 'bagging_fraction': 0.9207119819258338, 'bagging_freq': 7, 'min_child_samples': 25}. Best is trial 2 with value: 11.596828985916476.\n"
     ]
    },
    {
     "name": "stdout",
     "output_type": "stream",
     "text": [
      "Did not meet early stopping. Best iteration is:\n",
      "[1000]\tvalid_0's rmse: 11.6069\n",
      "Training until validation scores don't improve for 50 rounds\n"
     ]
    },
    {
     "name": "stderr",
     "output_type": "stream",
     "text": [
      "[I 2025-05-02 15:58:12,359] Trial 16 finished with value: 11.631610982036559 and parameters: {'num_leaves': 36, 'learning_rate': 0.03793874470415355, 'feature_fraction': 0.9287871247588034, 'bagging_fraction': 0.9999898299381249, 'bagging_freq': 2, 'min_child_samples': 22}. Best is trial 2 with value: 11.596828985916476.\n"
     ]
    },
    {
     "name": "stdout",
     "output_type": "stream",
     "text": [
      "Early stopping, best iteration is:\n",
      "[385]\tvalid_0's rmse: 11.6316\n",
      "Training until validation scores don't improve for 50 rounds\n"
     ]
    },
    {
     "name": "stderr",
     "output_type": "stream",
     "text": [
      "[I 2025-05-02 15:58:16,110] Trial 17 finished with value: 11.654206290701124 and parameters: {'num_leaves': 20, 'learning_rate': 0.04969146488347778, 'feature_fraction': 0.9868294084273127, 'bagging_fraction': 0.8215097036375056, 'bagging_freq': 4, 'min_child_samples': 13}. Best is trial 2 with value: 11.596828985916476.\n"
     ]
    },
    {
     "name": "stdout",
     "output_type": "stream",
     "text": [
      "Early stopping, best iteration is:\n",
      "[379]\tvalid_0's rmse: 11.6542\n",
      "Training until validation scores don't improve for 50 rounds\n"
     ]
    },
    {
     "name": "stderr",
     "output_type": "stream",
     "text": [
      "[I 2025-05-02 15:58:22,565] Trial 18 finished with value: 11.60739357416657 and parameters: {'num_leaves': 27, 'learning_rate': 0.03349349542774975, 'feature_fraction': 0.8563171370720217, 'bagging_fraction': 0.8841303637168685, 'bagging_freq': 7, 'min_child_samples': 28}. Best is trial 2 with value: 11.596828985916476.\n"
     ]
    },
    {
     "name": "stdout",
     "output_type": "stream",
     "text": [
      "Early stopping, best iteration is:\n",
      "[570]\tvalid_0's rmse: 11.6074\n",
      "Training until validation scores don't improve for 50 rounds\n"
     ]
    },
    {
     "name": "stderr",
     "output_type": "stream",
     "text": [
      "[I 2025-05-02 15:58:26,191] Trial 19 finished with value: 11.668503267369525 and parameters: {'num_leaves': 19, 'learning_rate': 0.07189497020621421, 'feature_fraction': 0.8219713864681434, 'bagging_fraction': 0.9455749619094662, 'bagging_freq': 8, 'min_child_samples': 18}. Best is trial 2 with value: 11.596828985916476.\n"
     ]
    },
    {
     "name": "stdout",
     "output_type": "stream",
     "text": [
      "Early stopping, best iteration is:\n",
      "[382]\tvalid_0's rmse: 11.6685\n",
      "Best LightGBM parameters found:\n",
      "    num_leaves: 19\n",
      "    learning_rate: 0.03197864510455689\n",
      "    feature_fraction: 0.9103026019205502\n",
      "    bagging_fraction: 0.9646607285741408\n",
      "    bagging_freq: 6\n",
      "    min_child_samples: 22\n",
      "    objective: regression\n",
      "    metric: rmse\n",
      "    boosting_type: gbdt\n",
      "    verbose: -1\n",
      "Optimized LightGBM Test Metrics - MAE: 7.84, RMSE: 11.95, WAPE: 25.48%\n"
     ]
    }
   ],
   "source": [
    "optimized_model, best_params, optimized_metrics = optimize_lightgbm(\n",
    "    X_train, y_train, X_test, y_test\n",
    ")"
   ]
  },
  {
   "cell_type": "markdown",
   "id": "a5dcb0bd-8977-4f88-88bf-3678ec5ab50b",
   "metadata": {},
   "source": [
    "## Evaluating model"
   ]
  },
  {
   "cell_type": "code",
   "execution_count": 21,
   "id": "7306f426-a791-4612-9348-d3b4ed663e20",
   "metadata": {},
   "outputs": [],
   "source": [
    "def evaluate_model(model, X_test, y_test, data):\n",
    "    \"\"\"\n",
    "    Evaluate the model performance on the test set (last 3 months of 2017)\n",
    "    \"\"\"\n",
    "    print(\"\\nEvaluating model performance on test set...\")\n",
    "\n",
    "    # Make predictions on the test set\n",
    "    test_preds = model.predict(X_test)\n",
    "\n",
    "    # Calculate metrics\n",
    "    test_mae = mean_absolute_error(y_test, test_preds)\n",
    "    test_rmse = np.sqrt(mean_squared_error(y_test, test_preds))\n",
    "    test_wape = weighted_absolute_percentage_error(y_test, test_preds)\n",
    "\n",
    "    # Print evaluation results\n",
    "    print(f\"Final Model Test Evaluation:\")\n",
    "    print(f\"    MAE: {test_mae:.2f}\")\n",
    "    print(f\"    RMSE: {test_rmse:.2f}\")\n",
    "    print(f\"    WAPE: {test_wape:.2f}%\")\n",
    "\n",
    "    # Analyze errors by time period (month)\n",
    "    test_results = data[data[\"is_test\"]].copy()\n",
    "    test_results[\"prediction\"] = test_preds\n",
    "    test_results[\"error\"] = test_results[\"sales\"] - test_results[\"prediction\"]\n",
    "    test_results[\"abs_error\"] = np.abs(test_results[\"error\"])\n",
    "    test_results[\"month_name\"] = test_results[\"date\"].dt.strftime(\"%B\")\n",
    "\n",
    "    # Summarize errors by month\n",
    "    monthly_errors = (\n",
    "        test_results.groupby(\"month_name\")\n",
    "        .agg({\"abs_error\": \"mean\", \"error\": \"mean\", \"sales\": \"mean\"})\n",
    "        .reset_index()\n",
    "    )\n",
    "    monthly_errors[\"error_pct\"] = (\n",
    "        100 * monthly_errors[\"abs_error\"] / monthly_errors[\"sales\"]\n",
    "    )\n",
    "\n",
    "    print(\"\\nError Analysis by Month:\")\n",
    "    print(\n",
    "        monthly_errors[[\"month_name\", \"abs_error\", \"error_pct\"]].to_string(index=False)\n",
    "    )\n",
    "\n",
    "    # Store results for visualization\n",
    "    # Include month and store information for granular analysis\n",
    "    test_results[\"year_month\"] = test_results[\"date\"].dt.strftime(\"%Y-%m\")\n",
    "\n",
    "    # Plot actual vs predicted\n",
    "    plt.figure(figsize=(10, 6))\n",
    "    plt.scatter(y_test, test_preds, alpha=0.5)\n",
    "    plt.plot([min(y_test), max(y_test)], [min(y_test), max(y_test)], \"r--\")\n",
    "    plt.title(\"Actual vs Predicted Sales (Test Set)\")\n",
    "    plt.xlabel(\"Actual Sales\")\n",
    "    plt.ylabel(\"Predicted Sales\")\n",
    "    plt.tight_layout()\n",
    "    # plt.savefig('actual_vs_predicted_test.png')\n",
    "\n",
    "    # Plot error distribution\n",
    "    plt.figure(figsize=(10, 6))\n",
    "    sns.histplot(test_results[\"error\"], kde=True)\n",
    "    plt.title(\"Error Distribution\")\n",
    "    plt.xlabel(\"Prediction Error\")\n",
    "    plt.tight_layout()\n",
    "    # plt.savefig('error_distribution.png')\n",
    "\n",
    "    return test_mae, test_rmse, test_wape, test_preds, y_test, test_results"
   ]
  },
  {
   "cell_type": "code",
   "execution_count": 22,
   "id": "9b19bcf0-9d6a-4218-bba3-129fada6026b",
   "metadata": {},
   "outputs": [],
   "source": [
    "# Prophet Model Results:\n",
    "# MAE: 9.03 | RMSE: 11.86 | WAPE: 29.13%"
   ]
  },
  {
   "cell_type": "code",
   "execution_count": 23,
   "id": "acbf2b3c-f81b-4746-90cc-8c4a8088a268",
   "metadata": {},
   "outputs": [
    {
     "name": "stdout",
     "output_type": "stream",
     "text": [
      "\n",
      "Evaluating model performance on test set...\n",
      "Final Model Test Evaluation:\n",
      "    MAE: 7.64\n",
      "    RMSE: 11.76\n",
      "    WAPE: 24.82%\n",
      "\n",
      "Error Analysis by Month:\n",
      "month_name  abs_error  error_pct\n",
      "  December   9.422675  26.014778\n",
      "  November   6.602542  23.803664\n",
      "   October   6.866294  24.269789\n"
     ]
    },
    {
     "data": {
      "image/png": "[encoded data removed]",
      "text/plain": [
       "<Figure size 1000x600 with 1 Axes>"
      ]
     },
     "metadata": {},
     "output_type": "display_data"
    },
    {
     "data": {
      "image/png": "[encoded data removed]",
      "text/plain": [
       "<Figure size 1000x600 with 1 Axes>"
      ]
     },
     "metadata": {},
     "output_type": "display_data"
    }
   ],
   "source": [
    "# Evaluate the lightgbm model\n",
    "test_mae, test_rmse, test_smape, test_preds, y_test_values, test_results = (\n",
    "    evaluate_model(lightgbm_model, X_test, y_test, df_features)\n",
    ")"
   ]
  },
  {
   "cell_type": "markdown",
   "id": "3e343dda-bec5-4525-91cc-a81ac25229d0",
   "metadata": {},
   "source": [
    "## Save trained models"
   ]
  },
  {
   "cell_type": "code",
   "execution_count": 24,
   "id": "fb8505cb-07cb-4175-9e04-5b4674befac4",
   "metadata": {},
   "outputs": [],
   "source": [
    "def save_model(model, X_train, feature_names, output_dir=\"../models\"):\n",
    "    \"\"\"\n",
    "    Save the trained model and related artifacts for API use\n",
    "\n",
    "    Args:\n",
    "        model: Trained model (e.g., LightGBM model)\n",
    "        feature_names: List of feature names\n",
    "        output_dir: Directory to save model artifacts\n",
    "    \"\"\"\n",
    "\n",
    "    # Create output directory if it doesn't exist\n",
    "    os.makedirs(output_dir, exist_ok=True)\n",
    "\n",
    "    # Save the model\n",
    "    model_path = os.path.join(output_dir, \"sales_forecast_model.pkl\")\n",
    "    with open(model_path, \"wb\") as f:\n",
    "        pickle.dump(model, f)\n",
    "    print(f\"Model saved to {model_path}\")\n",
    "\n",
    "    # Create and save feature statistics\n",
    "    feature_stats = {\n",
    "        \"model_version\": \"1.0.0\",\n",
    "        \"last_trained\": pd.Timestamp.now().strftime(\"%Y-%m-%d\"),\n",
    "        \"required_columns\": list(feature_names),\n",
    "        \"column_order\": list(feature_names),\n",
    "        \"default_values\": {},\n",
    "        \"temperature_bins\": [-np.inf, 20, 25, 30, np.inf],\n",
    "        \"temperature_labels\": [\"Cold\", \"Cool\", \"Warm\", \"Hot\"],\n",
    "        \"humidity_bins\": [-np.inf, 60, 75, np.inf],\n",
    "        \"humidity_labels\": [\"Low\", \"Medium\", \"High\"],\n",
    "    }\n",
    "\n",
    "    # Add default values for date features\n",
    "    feature_stats[\"default_values\"] = {\n",
    "        \"year\": 2017,\n",
    "        \"month\": 11,\n",
    "        \"day\": 15,\n",
    "        \"day_of_week\": 2,\n",
    "        \"is_weekend\": 0,\n",
    "        \"quarter\": 4,\n",
    "        \"is_holiday\": 0,\n",
    "    }\n",
    "\n",
    "    # Save feature stats\n",
    "    stats_path = os.path.join(output_dir, \"feature_stats.json\")\n",
    "    with open(stats_path, \"w\") as f:\n",
    "        json.dump(feature_stats, f, indent=4)\n",
    "    print(f\"Feature statistics saved to {stats_path}\")\n",
    "\n",
    "    print(f\"All model artifacts saved successfully to {output_dir}/\")\n",
    "\n",
    "    return model_path, stats_path"
   ]
  },
  {
   "cell_type": "code",
   "execution_count": 25,
   "id": "9be2cd1b-6d74-435c-be7c-d0ac999020d1",
   "metadata": {},
   "outputs": [
    {
     "name": "stdout",
     "output_type": "stream",
     "text": [
      "Model saved to ../models/sales_forecast_model.pkl\n",
      "Feature statistics saved to ../models/feature_stats.json\n",
      "All model artifacts saved successfully to ../models/\n"
     ]
    },
    {
     "data": {
      "text/plain": [
       "('../models/sales_forecast_model.pkl', '../models/feature_stats.json')"
      ]
     },
     "execution_count": 25,
     "metadata": {},
     "output_type": "execute_result"
    }
   ],
   "source": [
    "# Save model\n",
    "save_model(\n",
    "    model=optimized_model,\n",
    "    X_train=X_train,\n",
    "    feature_names=X_train.columns,\n",
    "    output_dir='../models'\n",
    ")"
   ]
  },
  {
   "cell_type": "code",
   "execution_count": null,
   "id": "edf5cc83-1c5b-4ab3-83af-cd3a6c3f00fe",
   "metadata": {},
   "outputs": [],
   "source": []
  }
 ],
 "metadata": {
  "kernelspec": {
   "display_name": "Python (sales_forecast)",
   "language": "python",
   "name": "sales_forecast"
  },
  "language_info": {
   "codemirror_mode": {
    "name": "ipython",
    "version": 3
   },
   "file_extension": ".py",
   "mimetype": "text/x-python",
   "name": "python",
   "nbconvert_exporter": "python",
   "pygments_lexer": "ipython3",
   "version": "3.11.12"
  }
 },
 "nbformat": 4,
 "nbformat_minor": 5
}
